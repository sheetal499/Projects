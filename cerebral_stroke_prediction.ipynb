{
  "cells": [
    {
      "cell_type": "code",
      "execution_count": null,
      "id": "b8ab473b",
      "metadata": {
        "_cell_guid": "b1076dfc-b9ad-4769-8c92-a6c4dae69d19",
        "_uuid": "8f2839f25d086af736a60e9eeb907d3b93b6e0e5",
        "execution": {
          "iopub.execute_input": "2022-08-19T00:47:35.980263Z",
          "iopub.status.busy": "2022-08-19T00:47:35.979333Z",
          "iopub.status.idle": "2022-08-19T00:47:36.000434Z",
          "shell.execute_reply": "2022-08-19T00:47:35.998999Z"
        },
        "papermill": {
          "duration": 0.039914,
          "end_time": "2022-08-19T00:47:36.003610",
          "exception": false,
          "start_time": "2022-08-19T00:47:35.963696",
          "status": "completed"
        },
        "tags": [],
        "id": "b8ab473b",
        "outputId": "b2e8e661-8b18-42a6-c576-759ec3ba85be"
      },
      "outputs": [
        {
          "name": "stdout",
          "output_type": "stream",
          "text": [
            "/kaggle/input/cerebral-stroke-predictionimbalaced-dataset/dataset.csv\n"
          ]
        }
      ],
      "source": [
        "# This Python 3 environment comes with many helpful analytics libraries installed\n",
        "# It is defined by the kaggle/python Docker image: https://github.com/kaggle/docker-python\n",
        "# For example, here's several helpful packages to load\n",
        "\n",
        "import numpy as np # linear algebra\n",
        "import pandas as pd # data processing, CSV file I/O (e.g. pd.read_csv)\n",
        "\n",
        "# Input data files are available in the read-only \"../input/\" directory\n",
        "# For example, running this (by clicking run or pressing Shift+Enter) will list all files under the input directory\n",
        "\n",
        "import os\n",
        "for dirname, _, filenames in os.walk('/kaggle/input'):\n",
        "    for filename in filenames:\n",
        "        print(os.path.join(dirname, filename))\n",
        "\n",
        "# You can write up to 20GB to the current directory (/kaggle/working/) that gets preserved as output when you create a version using \"Save & Run All\"\n",
        "# You can also write temporary files to /kaggle/temp/, but they won't be saved outside of the current session"
      ]
    },
    {
      "cell_type": "code",
      "execution_count": null,
      "id": "7450a764",
      "metadata": {
        "execution": {
          "iopub.execute_input": "2022-08-19T00:47:36.029169Z",
          "iopub.status.busy": "2022-08-19T00:47:36.028464Z",
          "iopub.status.idle": "2022-08-19T00:47:37.227691Z",
          "shell.execute_reply": "2022-08-19T00:47:37.226403Z"
        },
        "papermill": {
          "duration": 1.214893,
          "end_time": "2022-08-19T00:47:37.230730",
          "exception": false,
          "start_time": "2022-08-19T00:47:36.015837",
          "status": "completed"
        },
        "tags": [],
        "id": "7450a764"
      },
      "outputs": [],
      "source": [
        "import numpy as np\n",
        "import pandas as pd\n",
        "import matplotlib.pyplot as plt\n",
        "import seaborn as sns"
      ]
    },
    {
      "cell_type": "code",
      "execution_count": null,
      "id": "bb62e562",
      "metadata": {
        "execution": {
          "iopub.execute_input": "2022-08-19T00:47:37.255380Z",
          "iopub.status.busy": "2022-08-19T00:47:37.254938Z",
          "iopub.status.idle": "2022-08-19T00:47:37.380997Z",
          "shell.execute_reply": "2022-08-19T00:47:37.379685Z"
        },
        "papermill": {
          "duration": 0.141224,
          "end_time": "2022-08-19T00:47:37.383567",
          "exception": false,
          "start_time": "2022-08-19T00:47:37.242343",
          "status": "completed"
        },
        "tags": [],
        "id": "bb62e562",
        "outputId": "00264afe-8b08-4cb7-fce8-9701c74cf25b"
      },
      "outputs": [
        {
          "data": {
            "text/html": [
              "<div>\n",
              "<style scoped>\n",
              "    .dataframe tbody tr th:only-of-type {\n",
              "        vertical-align: middle;\n",
              "    }\n",
              "\n",
              "    .dataframe tbody tr th {\n",
              "        vertical-align: top;\n",
              "    }\n",
              "\n",
              "    .dataframe thead th {\n",
              "        text-align: right;\n",
              "    }\n",
              "</style>\n",
              "<table border=\"1\" class=\"dataframe\">\n",
              "  <thead>\n",
              "    <tr style=\"text-align: right;\">\n",
              "      <th></th>\n",
              "      <th>id</th>\n",
              "      <th>gender</th>\n",
              "      <th>age</th>\n",
              "      <th>hypertension</th>\n",
              "      <th>heart_disease</th>\n",
              "      <th>ever_married</th>\n",
              "      <th>work_type</th>\n",
              "      <th>Residence_type</th>\n",
              "      <th>avg_glucose_level</th>\n",
              "      <th>bmi</th>\n",
              "      <th>smoking_status</th>\n",
              "      <th>stroke</th>\n",
              "    </tr>\n",
              "  </thead>\n",
              "  <tbody>\n",
              "    <tr>\n",
              "      <th>0</th>\n",
              "      <td>30669</td>\n",
              "      <td>Male</td>\n",
              "      <td>3.0</td>\n",
              "      <td>0</td>\n",
              "      <td>0</td>\n",
              "      <td>No</td>\n",
              "      <td>children</td>\n",
              "      <td>Rural</td>\n",
              "      <td>95.12</td>\n",
              "      <td>18.0</td>\n",
              "      <td>NaN</td>\n",
              "      <td>0</td>\n",
              "    </tr>\n",
              "    <tr>\n",
              "      <th>1</th>\n",
              "      <td>30468</td>\n",
              "      <td>Male</td>\n",
              "      <td>58.0</td>\n",
              "      <td>1</td>\n",
              "      <td>0</td>\n",
              "      <td>Yes</td>\n",
              "      <td>Private</td>\n",
              "      <td>Urban</td>\n",
              "      <td>87.96</td>\n",
              "      <td>39.2</td>\n",
              "      <td>never smoked</td>\n",
              "      <td>0</td>\n",
              "    </tr>\n",
              "    <tr>\n",
              "      <th>2</th>\n",
              "      <td>16523</td>\n",
              "      <td>Female</td>\n",
              "      <td>8.0</td>\n",
              "      <td>0</td>\n",
              "      <td>0</td>\n",
              "      <td>No</td>\n",
              "      <td>Private</td>\n",
              "      <td>Urban</td>\n",
              "      <td>110.89</td>\n",
              "      <td>17.6</td>\n",
              "      <td>NaN</td>\n",
              "      <td>0</td>\n",
              "    </tr>\n",
              "    <tr>\n",
              "      <th>3</th>\n",
              "      <td>56543</td>\n",
              "      <td>Female</td>\n",
              "      <td>70.0</td>\n",
              "      <td>0</td>\n",
              "      <td>0</td>\n",
              "      <td>Yes</td>\n",
              "      <td>Private</td>\n",
              "      <td>Rural</td>\n",
              "      <td>69.04</td>\n",
              "      <td>35.9</td>\n",
              "      <td>formerly smoked</td>\n",
              "      <td>0</td>\n",
              "    </tr>\n",
              "    <tr>\n",
              "      <th>4</th>\n",
              "      <td>46136</td>\n",
              "      <td>Male</td>\n",
              "      <td>14.0</td>\n",
              "      <td>0</td>\n",
              "      <td>0</td>\n",
              "      <td>No</td>\n",
              "      <td>Never_worked</td>\n",
              "      <td>Rural</td>\n",
              "      <td>161.28</td>\n",
              "      <td>19.1</td>\n",
              "      <td>NaN</td>\n",
              "      <td>0</td>\n",
              "    </tr>\n",
              "  </tbody>\n",
              "</table>\n",
              "</div>"
            ],
            "text/plain": [
              "      id  gender   age  hypertension  heart_disease ever_married  \\\n",
              "0  30669    Male   3.0             0              0           No   \n",
              "1  30468    Male  58.0             1              0          Yes   \n",
              "2  16523  Female   8.0             0              0           No   \n",
              "3  56543  Female  70.0             0              0          Yes   \n",
              "4  46136    Male  14.0             0              0           No   \n",
              "\n",
              "      work_type Residence_type  avg_glucose_level   bmi   smoking_status  \\\n",
              "0      children          Rural              95.12  18.0              NaN   \n",
              "1       Private          Urban              87.96  39.2     never smoked   \n",
              "2       Private          Urban             110.89  17.6              NaN   \n",
              "3       Private          Rural              69.04  35.9  formerly smoked   \n",
              "4  Never_worked          Rural             161.28  19.1              NaN   \n",
              "\n",
              "   stroke  \n",
              "0       0  \n",
              "1       0  \n",
              "2       0  \n",
              "3       0  \n",
              "4       0  "
            ]
          },
          "execution_count": 3,
          "metadata": {},
          "output_type": "execute_result"
        }
      ],
      "source": [
        "df=pd.read_csv(\"../input/cerebral-stroke-predictionimbalaced-dataset/dataset.csv\")\n",
        "df.head()"
      ]
    },
    {
      "cell_type": "markdown",
      "id": "1de7b1cd",
      "metadata": {
        "papermill": {
          "duration": 0.010907,
          "end_time": "2022-08-19T00:47:37.407499",
          "exception": false,
          "start_time": "2022-08-19T00:47:37.396592",
          "status": "completed"
        },
        "tags": [],
        "id": "1de7b1cd"
      },
      "source": [
        "**Let's see whether the data is balanced or imbalanced****"
      ]
    },
    {
      "cell_type": "code",
      "execution_count": null,
      "id": "b5d25101",
      "metadata": {
        "execution": {
          "iopub.execute_input": "2022-08-19T00:47:37.432233Z",
          "iopub.status.busy": "2022-08-19T00:47:37.431275Z",
          "iopub.status.idle": "2022-08-19T00:47:37.458314Z",
          "shell.execute_reply": "2022-08-19T00:47:37.456961Z"
        },
        "papermill": {
          "duration": 0.043113,
          "end_time": "2022-08-19T00:47:37.461835",
          "exception": false,
          "start_time": "2022-08-19T00:47:37.418722",
          "status": "completed"
        },
        "tags": [],
        "id": "b5d25101",
        "outputId": "ddc4d21d-5124-4d27-90b4-45519cc9dc37"
      },
      "outputs": [
        {
          "name": "stdout",
          "output_type": "stream",
          "text": [
            "0    42617\n",
            "1      783\n",
            "Name: stroke, dtype: int64\n",
            "******************************************************************************************\n",
            "(43400, 12)\n",
            "******************************************************************************************\n",
            "id                       0\n",
            "gender                   0\n",
            "age                      0\n",
            "hypertension             0\n",
            "heart_disease            0\n",
            "ever_married             0\n",
            "work_type                0\n",
            "Residence_type           0\n",
            "avg_glucose_level        0\n",
            "bmi                   1462\n",
            "smoking_status       13292\n",
            "stroke                   0\n",
            "dtype: int64\n"
          ]
        }
      ],
      "source": [
        "print(df['stroke'].value_counts())\n",
        "print('***'*30)\n",
        "print(df.shape)\n",
        "print('***'*30)\n",
        "print(df.isna().sum())\n",
        "# data is imbalanced\n",
        "# bmi and smoking status have null values"
      ]
    },
    {
      "cell_type": "code",
      "execution_count": null,
      "id": "2b9a409d",
      "metadata": {
        "execution": {
          "iopub.execute_input": "2022-08-19T00:47:37.487809Z",
          "iopub.status.busy": "2022-08-19T00:47:37.487109Z",
          "iopub.status.idle": "2022-08-19T00:47:37.504434Z",
          "shell.execute_reply": "2022-08-19T00:47:37.503407Z"
        },
        "papermill": {
          "duration": 0.033121,
          "end_time": "2022-08-19T00:47:37.506873",
          "exception": false,
          "start_time": "2022-08-19T00:47:37.473752",
          "status": "completed"
        },
        "tags": [],
        "id": "2b9a409d",
        "outputId": "1a4f979c-8758-4eae-d015-eb4b8d826351"
      },
      "outputs": [
        {
          "name": "stdout",
          "output_type": "stream",
          "text": [
            "percentage of missing values in bmi ::  3.37\n",
            "percentage of missing values in Smoking Status ::  30.63\n",
            "(43400, 11)\n"
          ]
        }
      ],
      "source": [
        "print(\"percentage of missing values in bmi :: \",round(df['bmi'].isna().sum()/len(df['bmi'])*100,2))\n",
        "print(\"percentage of missing values in Smoking Status :: \",round(df['smoking_status'].isna().sum()/len(df['smoking_status'])*100,2))\n",
        "\n",
        "# we will drop smoking status as huge no.of values are missing , even if we fill it may  effect\n",
        "# the integrity of the data\n",
        "\n",
        "df.drop(columns=['smoking_status'],axis=1,inplace=True)\n",
        "print(df.shape)"
      ]
    },
    {
      "cell_type": "markdown",
      "id": "13ad57c9",
      "metadata": {
        "papermill": {
          "duration": 0.011215,
          "end_time": "2022-08-19T00:47:37.529651",
          "exception": false,
          "start_time": "2022-08-19T00:47:37.518436",
          "status": "completed"
        },
        "tags": [],
        "id": "13ad57c9"
      },
      "source": [
        "########\n",
        "* Since bmi only have 3.37 % percent of missing values we will fill it with the new appropriate value.\n",
        "* it can be either\n",
        "1. mean\n",
        "2. median\n",
        "3. mode\n",
        "* which one to consider ????\n",
        "* well it depends on the dataset whether i.e whether that column has outliers or not.\n",
        "* for more information refer to this GREAT ARTICLE (will take just 10 min to get you through)\n",
        "\n",
        "here --> https://vitalflux.com/pandas-impute-missing-values-mean-median-mode/"
      ]
    },
    {
      "cell_type": "code",
      "execution_count": null,
      "id": "0f970c9a",
      "metadata": {
        "execution": {
          "iopub.execute_input": "2022-08-19T00:47:37.554405Z",
          "iopub.status.busy": "2022-08-19T00:47:37.553993Z",
          "iopub.status.idle": "2022-08-19T00:47:38.128492Z",
          "shell.execute_reply": "2022-08-19T00:47:38.126977Z"
        },
        "papermill": {
          "duration": 0.589954,
          "end_time": "2022-08-19T00:47:38.131162",
          "exception": false,
          "start_time": "2022-08-19T00:47:37.541208",
          "status": "completed"
        },
        "tags": [],
        "id": "0f970c9a",
        "outputId": "d2f5638a-7f09-4e58-8dce-c3d18122378f"
      },
      "outputs": [
        {
          "name": "stderr",
          "output_type": "stream",
          "text": [
            "/opt/conda/lib/python3.7/site-packages/seaborn/distributions.py:2619: FutureWarning: `distplot` is a deprecated function and will be removed in a future version. Please adapt your code to use either `displot` (a figure-level function with similar flexibility) or `histplot` (an axes-level function for histograms).\n",
            "  warnings.warn(msg, FutureWarning)\n"
          ]
        },
        {
          "data": {
            "image/png": "[encoded data removed]",
            "text/plain": [
              "<Figure size 432x288 with 1 Axes>"
            ]
          },
          "metadata": {
            "needs_background": "light"
          },
          "output_type": "display_data"
        },
        {
          "name": "stdout",
          "output_type": "stream",
          "text": [
            "0.8987282500249906\n"
          ]
        }
      ],
      "source": [
        "sns.distplot(df['bmi'])\n",
        "plt.show()\n",
        "print(df['bmi'].skew())"
      ]
    },
    {
      "cell_type": "markdown",
      "id": "a4013c86",
      "metadata": {
        "papermill": {
          "duration": 0.012289,
          "end_time": "2022-08-19T00:47:38.155577",
          "exception": false,
          "start_time": "2022-08-19T00:47:38.143288",
          "status": "completed"
        },
        "tags": [],
        "id": "a4013c86"
      },
      "source": [
        " **A skewness value greater than 1 or less than -1 indicates a highly skewed distribution. A value between 0.5 and 1 or -0.5 and -1 is moderately skewed. A value between -0.5 and 0.5 indicates that the distribution is fairly symmetrical.**\n",
        "\n",
        " So df['bmi'] is moderately skewed.\n",
        " Hence w cannot use mean value to fill null values in df['bmi'], we can use either median(used only for numeric data) or mode(can be used for both numeric as well as categorical)\n",
        " We may play around data and can see which works better (median or mode)\n",
        " i'll go with median now...."
      ]
    },
    {
      "cell_type": "code",
      "execution_count": null,
      "id": "da111d2c",
      "metadata": {
        "execution": {
          "iopub.execute_input": "2022-08-19T00:47:38.181747Z",
          "iopub.status.busy": "2022-08-19T00:47:38.180956Z",
          "iopub.status.idle": "2022-08-19T00:47:38.191636Z",
          "shell.execute_reply": "2022-08-19T00:47:38.189950Z"
        },
        "papermill": {
          "duration": 0.027525,
          "end_time": "2022-08-19T00:47:38.195143",
          "exception": false,
          "start_time": "2022-08-19T00:47:38.167618",
          "status": "completed"
        },
        "tags": [],
        "id": "da111d2c",
        "outputId": "7e764baf-2de3-4018-849a-f2945ad6701f"
      },
      "outputs": [
        {
          "name": "stdout",
          "output_type": "stream",
          "text": [
            "0\n"
          ]
        }
      ],
      "source": [
        "df['bmi'].fillna(df['bmi'].median(),inplace=True)\n",
        "print(df['bmi'].isna().sum())"
      ]
    },
    {
      "cell_type": "markdown",
      "id": "ee9ea121",
      "metadata": {
        "papermill": {
          "duration": 0.012279,
          "end_time": "2022-08-19T00:47:38.219800",
          "exception": false,
          "start_time": "2022-08-19T00:47:38.207521",
          "status": "completed"
        },
        "tags": [],
        "id": "ee9ea121"
      },
      "source": [
        "Now we will remove ouliers in the data. We will do it before plotting correlation heatmap and applying feature scaling as they both can be affected by outliers  (excluding Robust Scaling,find out why outliers won't have an effect on robust Scaling)."
      ]
    },
    {
      "cell_type": "code",
      "execution_count": null,
      "id": "ad5e0bd9",
      "metadata": {
        "execution": {
          "iopub.execute_input": "2022-08-19T00:47:38.246565Z",
          "iopub.status.busy": "2022-08-19T00:47:38.245335Z",
          "iopub.status.idle": "2022-08-19T00:47:38.283812Z",
          "shell.execute_reply": "2022-08-19T00:47:38.282441Z"
        },
        "papermill": {
          "duration": 0.055006,
          "end_time": "2022-08-19T00:47:38.287305",
          "exception": false,
          "start_time": "2022-08-19T00:47:38.232299",
          "status": "completed"
        },
        "tags": [],
        "id": "ad5e0bd9",
        "outputId": "26b89485-61bd-42fa-9bec-0bb553f6e3ba"
      },
      "outputs": [
        {
          "name": "stdout",
          "output_type": "stream",
          "text": [
            "Index(['id', 'gender', 'age', 'hypertension', 'heart_disease', 'ever_married',\n",
            "       'work_type', 'Residence_type', 'avg_glucose_level', 'bmi', 'stroke'],\n",
            "      dtype='object')\n",
            "************************************************************\n",
            "                 id           age  hypertension  heart_disease  \\\n",
            "count  43400.000000  43400.000000  43400.000000   43400.000000   \n",
            "mean   36326.142350     42.217894      0.093571       0.047512   \n",
            "std    21072.134879     22.519649      0.291235       0.212733   \n",
            "min        1.000000      0.080000      0.000000       0.000000   \n",
            "25%    18038.500000     24.000000      0.000000       0.000000   \n",
            "50%    36351.500000     44.000000      0.000000       0.000000   \n",
            "75%    54514.250000     60.000000      0.000000       0.000000   \n",
            "max    72943.000000     82.000000      1.000000       1.000000   \n",
            "\n",
            "       avg_glucose_level           bmi        stroke  \n",
            "count       43400.000000  43400.000000  43400.000000  \n",
            "mean          104.482750     28.574551      0.018041  \n",
            "std            43.111751      7.639769      0.133103  \n",
            "min            55.000000     10.100000      0.000000  \n",
            "25%            77.540000     23.400000      0.000000  \n",
            "50%            91.580000     27.700000      0.000000  \n",
            "75%           112.070000     32.600000      0.000000  \n",
            "max           291.050000     97.600000      1.000000  \n"
          ]
        }
      ],
      "source": [
        "print(df.columns)\n",
        "print('***'*20)\n",
        "print(df.describe())"
      ]
    },
    {
      "cell_type": "code",
      "execution_count": null,
      "id": "4053d4b8",
      "metadata": {
        "execution": {
          "iopub.execute_input": "2022-08-19T00:47:38.313116Z",
          "iopub.status.busy": "2022-08-19T00:47:38.312313Z",
          "iopub.status.idle": "2022-08-19T00:47:38.641900Z",
          "shell.execute_reply": "2022-08-19T00:47:38.640793Z"
        },
        "papermill": {
          "duration": 0.345339,
          "end_time": "2022-08-19T00:47:38.644469",
          "exception": false,
          "start_time": "2022-08-19T00:47:38.299130",
          "status": "completed"
        },
        "tags": [],
        "id": "4053d4b8",
        "outputId": "d60625ef-a7c0-47c5-df5a-5b68b30b84e7"
      },
      "outputs": [
        {
          "name": "stderr",
          "output_type": "stream",
          "text": [
            "/opt/conda/lib/python3.7/site-packages/seaborn/_decorators.py:43: FutureWarning: Pass the following variable as a keyword arg: x. From version 0.12, the only valid positional argument will be `data`, and passing other arguments without an explicit keyword will result in an error or misinterpretation.\n",
            "  FutureWarning\n",
            "/opt/conda/lib/python3.7/site-packages/seaborn/_decorators.py:43: FutureWarning: Pass the following variable as a keyword arg: x. From version 0.12, the only valid positional argument will be `data`, and passing other arguments without an explicit keyword will result in an error or misinterpretation.\n",
            "  FutureWarning\n",
            "/opt/conda/lib/python3.7/site-packages/seaborn/_decorators.py:43: FutureWarning: Pass the following variable as a keyword arg: x. From version 0.12, the only valid positional argument will be `data`, and passing other arguments without an explicit keyword will result in an error or misinterpretation.\n",
            "  FutureWarning\n"
          ]
        },
        {
          "data": {
            "image/png": "[encoded data removed]",
            "text/plain": [
              "<Figure size 1080x360 with 3 Axes>"
            ]
          },
          "metadata": {
            "needs_background": "light"
          },
          "output_type": "display_data"
        }
      ],
      "source": [
        "f,ax=plt.subplots(1,3,figsize=(15,5))\n",
        "sns.boxplot(df['age'],color='red',ax=ax[0])\n",
        "sns.boxplot(df['avg_glucose_level'],color='yellow',ax=ax[1])\n",
        "sns.boxplot(df['bmi'],color='blue',ax=ax[2])\n",
        "plt.show()\n",
        "\n",
        "## bmi and avg glucose level have valid ranges , should i still remove them ??????????"
      ]
    },
    {
      "cell_type": "code",
      "execution_count": null,
      "id": "fd4911b8",
      "metadata": {
        "execution": {
          "iopub.execute_input": "2022-08-19T00:47:38.670986Z",
          "iopub.status.busy": "2022-08-19T00:47:38.670571Z",
          "iopub.status.idle": "2022-08-19T00:47:38.677375Z",
          "shell.execute_reply": "2022-08-19T00:47:38.676524Z"
        },
        "papermill": {
          "duration": 0.022412,
          "end_time": "2022-08-19T00:47:38.679373",
          "exception": false,
          "start_time": "2022-08-19T00:47:38.656961",
          "status": "completed"
        },
        "tags": [],
        "id": "fd4911b8",
        "outputId": "ee2ca7a1-f98d-45bc-93e8-95959d7972fa"
      },
      "outputs": [
        {
          "data": {
            "text/plain": [
              "Index(['id', 'gender', 'age', 'hypertension', 'heart_disease', 'ever_married',\n",
              "       'work_type', 'Residence_type', 'avg_glucose_level', 'bmi', 'stroke'],\n",
              "      dtype='object')"
            ]
          },
          "execution_count": 10,
          "metadata": {},
          "output_type": "execute_result"
        }
      ],
      "source": [
        "df.columns"
      ]
    },
    {
      "cell_type": "code",
      "execution_count": null,
      "id": "ce4e5399",
      "metadata": {
        "execution": {
          "iopub.execute_input": "2022-08-19T00:47:38.705969Z",
          "iopub.status.busy": "2022-08-19T00:47:38.705513Z",
          "iopub.status.idle": "2022-08-19T00:47:38.731433Z",
          "shell.execute_reply": "2022-08-19T00:47:38.730332Z"
        },
        "papermill": {
          "duration": 0.043092,
          "end_time": "2022-08-19T00:47:38.734760",
          "exception": false,
          "start_time": "2022-08-19T00:47:38.691668",
          "status": "completed"
        },
        "tags": [],
        "id": "ce4e5399",
        "outputId": "224a5606-900c-4fc2-b8e8-06ec88d74890"
      },
      "outputs": [
        {
          "name": "stdout",
          "output_type": "stream",
          "text": [
            "77.54   34.52999999999999\n",
            "(1865, 11)\n",
            "before removing Outliers (43400, 11)\n",
            "************************************************************\n",
            "after removing Outliers (41535, 11)\n"
          ]
        }
      ],
      "source": [
        "q1=df['avg_glucose_level'].quantile(0.25)\n",
        "q3=df['avg_glucose_level'].quantile(0.75)\n",
        "iqr=q3-q1\n",
        "lower=q1-3*iqr\n",
        "upper=q3+3*iqr\n",
        "\n",
        "print(q1,\" \",iqr)\n",
        "\n",
        "# no of extreemmmme outliers\n",
        "print(df[(df['avg_glucose_level']<lower) | (df['avg_glucose_level']>upper)].shape)\n",
        "print(\"before removing Outliers\",df.shape)\n",
        "\n",
        "print('***'*20)\n",
        "\n",
        "\n",
        "# removing extremmme outliers\n",
        "df=df[(df['avg_glucose_level']>=lower) & (df['avg_glucose_level']<=upper)]\n",
        "print(\"after removing Outliers\",df.shape)\n",
        "\n",
        "# removing mild + extremmme outliers\n",
        "new_df=df[(df['avg_glucose_level']>=q1-1.5*iqr) & (df['avg_glucose_level']<=q1+1.5*iqr)]"
      ]
    },
    {
      "cell_type": "code",
      "execution_count": null,
      "id": "b27d556f",
      "metadata": {
        "execution": {
          "iopub.execute_input": "2022-08-19T00:47:38.763440Z",
          "iopub.status.busy": "2022-08-19T00:47:38.762386Z",
          "iopub.status.idle": "2022-08-19T00:47:38.788431Z",
          "shell.execute_reply": "2022-08-19T00:47:38.786785Z"
        },
        "papermill": {
          "duration": 0.043684,
          "end_time": "2022-08-19T00:47:38.792113",
          "exception": false,
          "start_time": "2022-08-19T00:47:38.748429",
          "status": "completed"
        },
        "tags": [],
        "id": "b27d556f",
        "outputId": "495d97bc-b679-49a0-ec5f-cd1304eaf4c9"
      },
      "outputs": [
        {
          "name": "stdout",
          "output_type": "stream",
          "text": [
            "23.2   9.2\n",
            "(82, 11)\n"
          ]
        }
      ],
      "source": [
        "q1=df['bmi'].quantile(0.25)\n",
        "q3=df['bmi'].quantile(0.75)\n",
        "iqr=q3-q1\n",
        "lower=q1-3*iqr\n",
        "upper=q3+3*iqr\n",
        "\n",
        "print(q1,\" \",iqr)\n",
        "\n",
        "# no of extreemmmme outliers\n",
        "print(df[(df['bmi']<lower) | (df['bmi']>upper)].shape)\n",
        "\n",
        "df=df[(df['bmi']>=lower)&(df['bmi']<=upper)]\n",
        "\n",
        "# removing mild + extremmme outliers\n",
        "new_df=new_df[(new_df['bmi']>=q1-1.5*iqr) & (new_df['bmi']<=q1+1.5*iqr)]"
      ]
    },
    {
      "cell_type": "code",
      "execution_count": null,
      "id": "181a9e16",
      "metadata": {
        "execution": {
          "iopub.execute_input": "2022-08-19T00:47:39.142824Z",
          "iopub.status.busy": "2022-08-19T00:47:39.142073Z",
          "iopub.status.idle": "2022-08-19T00:47:39.359679Z",
          "shell.execute_reply": "2022-08-19T00:47:39.358248Z"
        },
        "papermill": {
          "duration": 0.236022,
          "end_time": "2022-08-19T00:47:39.363362",
          "exception": false,
          "start_time": "2022-08-19T00:47:39.127340",
          "status": "completed"
        },
        "tags": [],
        "id": "181a9e16",
        "outputId": "3f08d0b6-0c84-40d3-9e24-42a819deed93"
      },
      "outputs": [
        {
          "name": "stdout",
          "output_type": "stream",
          "text": [
            "Index(['gender', 'ever_married', 'work_type', 'Residence_type'], dtype='object')\n"
          ]
        },
        {
          "data": {
            "text/html": [
              "<div>\n",
              "<style scoped>\n",
              "    .dataframe tbody tr th:only-of-type {\n",
              "        vertical-align: middle;\n",
              "    }\n",
              "\n",
              "    .dataframe tbody tr th {\n",
              "        vertical-align: top;\n",
              "    }\n",
              "\n",
              "    .dataframe thead th {\n",
              "        text-align: right;\n",
              "    }\n",
              "</style>\n",
              "<table border=\"1\" class=\"dataframe\">\n",
              "  <thead>\n",
              "    <tr style=\"text-align: right;\">\n",
              "      <th></th>\n",
              "      <th>id</th>\n",
              "      <th>gender</th>\n",
              "      <th>age</th>\n",
              "      <th>hypertension</th>\n",
              "      <th>heart_disease</th>\n",
              "      <th>ever_married</th>\n",
              "      <th>work_type</th>\n",
              "      <th>Residence_type</th>\n",
              "      <th>avg_glucose_level</th>\n",
              "      <th>bmi</th>\n",
              "      <th>stroke</th>\n",
              "    </tr>\n",
              "  </thead>\n",
              "  <tbody>\n",
              "    <tr>\n",
              "      <th>0</th>\n",
              "      <td>30669</td>\n",
              "      <td>1</td>\n",
              "      <td>3.0</td>\n",
              "      <td>0</td>\n",
              "      <td>0</td>\n",
              "      <td>0</td>\n",
              "      <td>4</td>\n",
              "      <td>0</td>\n",
              "      <td>95.12</td>\n",
              "      <td>18.0</td>\n",
              "      <td>0</td>\n",
              "    </tr>\n",
              "    <tr>\n",
              "      <th>1</th>\n",
              "      <td>30468</td>\n",
              "      <td>1</td>\n",
              "      <td>58.0</td>\n",
              "      <td>1</td>\n",
              "      <td>0</td>\n",
              "      <td>1</td>\n",
              "      <td>2</td>\n",
              "      <td>1</td>\n",
              "      <td>87.96</td>\n",
              "      <td>39.2</td>\n",
              "      <td>0</td>\n",
              "    </tr>\n",
              "    <tr>\n",
              "      <th>2</th>\n",
              "      <td>16523</td>\n",
              "      <td>0</td>\n",
              "      <td>8.0</td>\n",
              "      <td>0</td>\n",
              "      <td>0</td>\n",
              "      <td>0</td>\n",
              "      <td>2</td>\n",
              "      <td>1</td>\n",
              "      <td>110.89</td>\n",
              "      <td>17.6</td>\n",
              "      <td>0</td>\n",
              "    </tr>\n",
              "    <tr>\n",
              "      <th>3</th>\n",
              "      <td>56543</td>\n",
              "      <td>0</td>\n",
              "      <td>70.0</td>\n",
              "      <td>0</td>\n",
              "      <td>0</td>\n",
              "      <td>1</td>\n",
              "      <td>2</td>\n",
              "      <td>0</td>\n",
              "      <td>69.04</td>\n",
              "      <td>35.9</td>\n",
              "      <td>0</td>\n",
              "    </tr>\n",
              "    <tr>\n",
              "      <th>4</th>\n",
              "      <td>46136</td>\n",
              "      <td>1</td>\n",
              "      <td>14.0</td>\n",
              "      <td>0</td>\n",
              "      <td>0</td>\n",
              "      <td>0</td>\n",
              "      <td>1</td>\n",
              "      <td>0</td>\n",
              "      <td>161.28</td>\n",
              "      <td>19.1</td>\n",
              "      <td>0</td>\n",
              "    </tr>\n",
              "  </tbody>\n",
              "</table>\n",
              "</div>"
            ],
            "text/plain": [
              "      id  gender   age  hypertension  heart_disease  ever_married  work_type  \\\n",
              "0  30669       1   3.0             0              0             0          4   \n",
              "1  30468       1  58.0             1              0             1          2   \n",
              "2  16523       0   8.0             0              0             0          2   \n",
              "3  56543       0  70.0             0              0             1          2   \n",
              "4  46136       1  14.0             0              0             0          1   \n",
              "\n",
              "   Residence_type  avg_glucose_level   bmi  stroke  \n",
              "0               0              95.12  18.0       0  \n",
              "1               1              87.96  39.2       0  \n",
              "2               1             110.89  17.6       0  \n",
              "3               0              69.04  35.9       0  \n",
              "4               0             161.28  19.1       0  "
            ]
          },
          "execution_count": 14,
          "metadata": {},
          "output_type": "execute_result"
        }
      ],
      "source": [
        "from sklearn.preprocessing import LabelEncoder\n",
        "le = LabelEncoder()\n",
        "label_encoded_df = df.copy()\n",
        "\n",
        "print(label_encoded_df.select_dtypes(include='O').columns)\n",
        "\n",
        "for col in label_encoded_df.select_dtypes(include='O').columns:\n",
        "    label_encoded_df[col]=le.fit_transform(label_encoded_df[col])\n",
        "label_encoded_df.head()"
      ]
    },
    {
      "cell_type": "code",
      "execution_count": null,
      "id": "7e1eab89",
      "metadata": {
        "execution": {
          "iopub.execute_input": "2022-08-19T00:47:39.393228Z",
          "iopub.status.busy": "2022-08-19T00:47:39.392065Z",
          "iopub.status.idle": "2022-08-19T00:47:39.409880Z",
          "shell.execute_reply": "2022-08-19T00:47:39.408630Z"
        },
        "papermill": {
          "duration": 0.03536,
          "end_time": "2022-08-19T00:47:39.412453",
          "exception": false,
          "start_time": "2022-08-19T00:47:39.377093",
          "status": "completed"
        },
        "tags": [],
        "id": "7e1eab89",
        "outputId": "6f439e92-3b3a-4cfd-9efb-c13696c9e045"
      },
      "outputs": [
        {
          "data": {
            "text/html": [
              "<div>\n",
              "<style scoped>\n",
              "    .dataframe tbody tr th:only-of-type {\n",
              "        vertical-align: middle;\n",
              "    }\n",
              "\n",
              "    .dataframe tbody tr th {\n",
              "        vertical-align: top;\n",
              "    }\n",
              "\n",
              "    .dataframe thead th {\n",
              "        text-align: right;\n",
              "    }\n",
              "</style>\n",
              "<table border=\"1\" class=\"dataframe\">\n",
              "  <thead>\n",
              "    <tr style=\"text-align: right;\">\n",
              "      <th></th>\n",
              "      <th>id</th>\n",
              "      <th>gender</th>\n",
              "      <th>age</th>\n",
              "      <th>hypertension</th>\n",
              "      <th>heart_disease</th>\n",
              "      <th>ever_married</th>\n",
              "      <th>work_type</th>\n",
              "      <th>Residence_type</th>\n",
              "      <th>avg_glucose_level</th>\n",
              "      <th>bmi</th>\n",
              "      <th>stroke</th>\n",
              "    </tr>\n",
              "  </thead>\n",
              "  <tbody>\n",
              "    <tr>\n",
              "      <th>0</th>\n",
              "      <td>30669</td>\n",
              "      <td>Male</td>\n",
              "      <td>3.0</td>\n",
              "      <td>0</td>\n",
              "      <td>0</td>\n",
              "      <td>No</td>\n",
              "      <td>children</td>\n",
              "      <td>Rural</td>\n",
              "      <td>95.12</td>\n",
              "      <td>18.0</td>\n",
              "      <td>0</td>\n",
              "    </tr>\n",
              "    <tr>\n",
              "      <th>1</th>\n",
              "      <td>30468</td>\n",
              "      <td>Male</td>\n",
              "      <td>58.0</td>\n",
              "      <td>1</td>\n",
              "      <td>0</td>\n",
              "      <td>Yes</td>\n",
              "      <td>Private</td>\n",
              "      <td>Urban</td>\n",
              "      <td>87.96</td>\n",
              "      <td>39.2</td>\n",
              "      <td>0</td>\n",
              "    </tr>\n",
              "    <tr>\n",
              "      <th>2</th>\n",
              "      <td>16523</td>\n",
              "      <td>Female</td>\n",
              "      <td>8.0</td>\n",
              "      <td>0</td>\n",
              "      <td>0</td>\n",
              "      <td>No</td>\n",
              "      <td>Private</td>\n",
              "      <td>Urban</td>\n",
              "      <td>110.89</td>\n",
              "      <td>17.6</td>\n",
              "      <td>0</td>\n",
              "    </tr>\n",
              "    <tr>\n",
              "      <th>3</th>\n",
              "      <td>56543</td>\n",
              "      <td>Female</td>\n",
              "      <td>70.0</td>\n",
              "      <td>0</td>\n",
              "      <td>0</td>\n",
              "      <td>Yes</td>\n",
              "      <td>Private</td>\n",
              "      <td>Rural</td>\n",
              "      <td>69.04</td>\n",
              "      <td>35.9</td>\n",
              "      <td>0</td>\n",
              "    </tr>\n",
              "    <tr>\n",
              "      <th>4</th>\n",
              "      <td>46136</td>\n",
              "      <td>Male</td>\n",
              "      <td>14.0</td>\n",
              "      <td>0</td>\n",
              "      <td>0</td>\n",
              "      <td>No</td>\n",
              "      <td>Never_worked</td>\n",
              "      <td>Rural</td>\n",
              "      <td>161.28</td>\n",
              "      <td>19.1</td>\n",
              "      <td>0</td>\n",
              "    </tr>\n",
              "  </tbody>\n",
              "</table>\n",
              "</div>"
            ],
            "text/plain": [
              "      id  gender   age  hypertension  heart_disease ever_married  \\\n",
              "0  30669    Male   3.0             0              0           No   \n",
              "1  30468    Male  58.0             1              0          Yes   \n",
              "2  16523  Female   8.0             0              0           No   \n",
              "3  56543  Female  70.0             0              0          Yes   \n",
              "4  46136    Male  14.0             0              0           No   \n",
              "\n",
              "      work_type Residence_type  avg_glucose_level   bmi  stroke  \n",
              "0      children          Rural              95.12  18.0       0  \n",
              "1       Private          Urban              87.96  39.2       0  \n",
              "2       Private          Urban             110.89  17.6       0  \n",
              "3       Private          Rural              69.04  35.9       0  \n",
              "4  Never_worked          Rural             161.28  19.1       0  "
            ]
          },
          "execution_count": 15,
          "metadata": {},
          "output_type": "execute_result"
        }
      ],
      "source": [
        "df.head()"
      ]
    },
    {
      "cell_type": "code",
      "execution_count": null,
      "id": "57e3122e",
      "metadata": {
        "execution": {
          "iopub.execute_input": "2022-08-19T00:47:39.493058Z",
          "iopub.status.busy": "2022-08-19T00:47:39.492623Z",
          "iopub.status.idle": "2022-08-19T00:47:39.987862Z",
          "shell.execute_reply": "2022-08-19T00:47:39.986836Z"
        },
        "papermill": {
          "duration": 0.512274,
          "end_time": "2022-08-19T00:47:39.990373",
          "exception": false,
          "start_time": "2022-08-19T00:47:39.478099",
          "status": "completed"
        },
        "tags": [],
        "id": "57e3122e",
        "outputId": "6c190fab-0411-435f-e879-49460adae7c9"
      },
      "outputs": [
        {
          "data": {
            "image/png": "[encoded data removed]",
            "text/plain": [
              "<Figure size 432x288 with 2 Axes>"
            ]
          },
          "metadata": {
            "needs_background": "light"
          },
          "output_type": "display_data"
        }
      ],
      "source": [
        "## but still showing how we make correlation matrix (although not a right approach)\n",
        "correlation=df.corr()\n",
        "sns.heatmap(correlation,annot=True,cmap='PuBu',fmt=\".2g\",)\n",
        "plt.show()"
      ]
    },
    {
      "cell_type": "code",
      "execution_count": null,
      "id": "53cef78e",
      "metadata": {
        "execution": {
          "iopub.execute_input": "2022-08-19T00:47:40.022642Z",
          "iopub.status.busy": "2022-08-19T00:47:40.021869Z",
          "iopub.status.idle": "2022-08-19T00:47:40.034794Z",
          "shell.execute_reply": "2022-08-19T00:47:40.033203Z"
        },
        "papermill": {
          "duration": 0.032621,
          "end_time": "2022-08-19T00:47:40.037690",
          "exception": false,
          "start_time": "2022-08-19T00:47:40.005069",
          "status": "completed"
        },
        "tags": [],
        "id": "53cef78e",
        "outputId": "6f9a41ae-678d-40dd-ff64-36abd6aa7c7e"
      },
      "outputs": [
        {
          "name": "stdout",
          "output_type": "stream",
          "text": [
            "11\n",
            "Index(['id', 'gender', 'age', 'hypertension', 'heart_disease', 'ever_married',\n",
            "       'work_type', 'Residence_type', 'avg_glucose_level', 'bmi', 'stroke'],\n",
            "      dtype='object')\n",
            "      id  gender   age  hypertension  heart_disease ever_married  \\\n",
            "0  30669    Male   3.0             0              0           No   \n",
            "1  30468    Male  58.0             1              0          Yes   \n",
            "2  16523  Female   8.0             0              0           No   \n",
            "3  56543  Female  70.0             0              0          Yes   \n",
            "4  46136    Male  14.0             0              0           No   \n",
            "\n",
            "      work_type Residence_type  avg_glucose_level   bmi  stroke  \n",
            "0      children          Rural              95.12  18.0       0  \n",
            "1       Private          Urban              87.96  39.2       0  \n",
            "2       Private          Urban             110.89  17.6       0  \n",
            "3       Private          Rural              69.04  35.9       0  \n",
            "4  Never_worked          Rural             161.28  19.1       0  \n"
          ]
        }
      ],
      "source": [
        "print(len(df.columns))\n",
        "print(df.columns)\n",
        "print(df.head())"
      ]
    },
    {
      "cell_type": "code",
      "execution_count": null,
      "id": "f8e174fe",
      "metadata": {
        "execution": {
          "iopub.execute_input": "2022-08-19T00:47:40.096280Z",
          "iopub.status.busy": "2022-08-19T00:47:40.095463Z",
          "iopub.status.idle": "2022-08-19T00:47:40.362925Z",
          "shell.execute_reply": "2022-08-19T00:47:40.361608Z"
        },
        "papermill": {
          "duration": 0.286843,
          "end_time": "2022-08-19T00:47:40.366860",
          "exception": false,
          "start_time": "2022-08-19T00:47:40.080017",
          "status": "completed"
        },
        "tags": [],
        "id": "f8e174fe",
        "outputId": "f1347293-8854-4a09-dd87-97425ba9eb1f"
      },
      "outputs": [
        {
          "name": "stdout",
          "output_type": "stream",
          "text": [
            "          Fscore           features  p_values\n",
            "0    1784.872642                 id     0.000\n",
            "1       2.302022             gender     0.129\n",
            "2   11838.481255                age     0.000\n",
            "3     209.784008       hypertension     0.000\n",
            "4     438.130999      heart_disease     0.000\n",
            "5      76.354606       ever_married     0.000\n",
            "6       2.115939          work_type     0.146\n",
            "7       0.358405  avg_glucose_level     0.549\n",
            "8    1925.323420                bmi     0.000\n",
            "9      21.761776             stroke     0.000\n",
            "10  40766.000000                NaN     0.000\n",
            "Index(['id', 'gender', 'age', 'hypertension', 'heart_disease', 'ever_married',\n",
            "       'work_type', 'avg_glucose_level', 'bmi', 'stroke'],\n",
            "      dtype='object')\n",
            "<class 'sklearn.feature_selection._univariate_selection.SelectKBest'>\n"
          ]
        }
      ],
      "source": [
        "from sklearn.feature_selection import SelectKBest\n",
        "from sklearn.feature_selection import chi2\n",
        "\n",
        "# separate independent & dependent variables\n",
        "X = label_encoded_df.iloc[:,0:11]  #independent columns\n",
        "y = label_encoded_df.iloc[:,-1]    #target column i.e price range\n",
        "\n",
        "# # apply SelectKBest class to extract top 10 best features\n",
        "bestfeatures = SelectKBest(score_func=chi2, k=10)\n",
        "fit = bestfeatures.fit(X,y)\n",
        "dfscores = pd.DataFrame(fit.scores_)\n",
        "cols=pd.DataFrame(X.columns[fit.get_support()])\n",
        "pval=pd.DataFrame(np.round(fit.pvalues_,3))\n",
        "k=pd.concat([dfscores,cols,pval],axis=1)\n",
        "k.columns=['Fscore','features','p_values']\n",
        "print(k)\n",
        "# print(k.sort_values(by='Fscore',ascending=False))\n",
        "dfscores = pd.DataFrame\n",
        "print(X.columns[fit.get_support()])\n",
        "print(type(fit))\n",
        "# print(fit.pvalues_)\n",
        "\n",
        "# 0.05  0.10"
      ]
    },
    {
      "cell_type": "code",
      "execution_count": null,
      "id": "8a459b7c",
      "metadata": {
        "execution": {
          "iopub.execute_input": "2022-08-19T00:47:40.415888Z",
          "iopub.status.busy": "2022-08-19T00:47:40.415322Z",
          "iopub.status.idle": "2022-08-19T00:47:40.446295Z",
          "shell.execute_reply": "2022-08-19T00:47:40.444934Z"
        },
        "papermill": {
          "duration": 0.060344,
          "end_time": "2022-08-19T00:47:40.450360",
          "exception": false,
          "start_time": "2022-08-19T00:47:40.390016",
          "status": "completed"
        },
        "tags": [],
        "id": "8a459b7c",
        "outputId": "a95deefa-824e-4bd4-ef2c-42d26c392eeb"
      },
      "outputs": [
        {
          "data": {
            "text/html": [
              "<div>\n",
              "<style scoped>\n",
              "    .dataframe tbody tr th:only-of-type {\n",
              "        vertical-align: middle;\n",
              "    }\n",
              "\n",
              "    .dataframe tbody tr th {\n",
              "        vertical-align: top;\n",
              "    }\n",
              "\n",
              "    .dataframe thead th {\n",
              "        text-align: right;\n",
              "    }\n",
              "</style>\n",
              "<table border=\"1\" class=\"dataframe\">\n",
              "  <thead>\n",
              "    <tr style=\"text-align: right;\">\n",
              "      <th></th>\n",
              "      <th>id</th>\n",
              "      <th>gender</th>\n",
              "      <th>age</th>\n",
              "      <th>hypertension</th>\n",
              "      <th>heart_disease</th>\n",
              "      <th>ever_married</th>\n",
              "      <th>work_type</th>\n",
              "      <th>Residence_type</th>\n",
              "      <th>avg_glucose_level</th>\n",
              "      <th>bmi</th>\n",
              "      <th>stroke</th>\n",
              "    </tr>\n",
              "  </thead>\n",
              "  <tbody>\n",
              "    <tr>\n",
              "      <th>0</th>\n",
              "      <td>30669</td>\n",
              "      <td>Male</td>\n",
              "      <td>3.0</td>\n",
              "      <td>0</td>\n",
              "      <td>0</td>\n",
              "      <td>No</td>\n",
              "      <td>children</td>\n",
              "      <td>Rural</td>\n",
              "      <td>95.12</td>\n",
              "      <td>18.0</td>\n",
              "      <td>0</td>\n",
              "    </tr>\n",
              "    <tr>\n",
              "      <th>1</th>\n",
              "      <td>30468</td>\n",
              "      <td>Male</td>\n",
              "      <td>58.0</td>\n",
              "      <td>1</td>\n",
              "      <td>0</td>\n",
              "      <td>Yes</td>\n",
              "      <td>Private</td>\n",
              "      <td>Urban</td>\n",
              "      <td>87.96</td>\n",
              "      <td>39.2</td>\n",
              "      <td>0</td>\n",
              "    </tr>\n",
              "    <tr>\n",
              "      <th>2</th>\n",
              "      <td>16523</td>\n",
              "      <td>Female</td>\n",
              "      <td>8.0</td>\n",
              "      <td>0</td>\n",
              "      <td>0</td>\n",
              "      <td>No</td>\n",
              "      <td>Private</td>\n",
              "      <td>Urban</td>\n",
              "      <td>110.89</td>\n",
              "      <td>17.6</td>\n",
              "      <td>0</td>\n",
              "    </tr>\n",
              "    <tr>\n",
              "      <th>3</th>\n",
              "      <td>56543</td>\n",
              "      <td>Female</td>\n",
              "      <td>70.0</td>\n",
              "      <td>0</td>\n",
              "      <td>0</td>\n",
              "      <td>Yes</td>\n",
              "      <td>Private</td>\n",
              "      <td>Rural</td>\n",
              "      <td>69.04</td>\n",
              "      <td>35.9</td>\n",
              "      <td>0</td>\n",
              "    </tr>\n",
              "    <tr>\n",
              "      <th>4</th>\n",
              "      <td>46136</td>\n",
              "      <td>Male</td>\n",
              "      <td>14.0</td>\n",
              "      <td>0</td>\n",
              "      <td>0</td>\n",
              "      <td>No</td>\n",
              "      <td>Never_worked</td>\n",
              "      <td>Rural</td>\n",
              "      <td>161.28</td>\n",
              "      <td>19.1</td>\n",
              "      <td>0</td>\n",
              "    </tr>\n",
              "  </tbody>\n",
              "</table>\n",
              "</div>"
            ],
            "text/plain": [
              "      id  gender   age  hypertension  heart_disease ever_married  \\\n",
              "0  30669    Male   3.0             0              0           No   \n",
              "1  30468    Male  58.0             1              0          Yes   \n",
              "2  16523  Female   8.0             0              0           No   \n",
              "3  56543  Female  70.0             0              0          Yes   \n",
              "4  46136    Male  14.0             0              0           No   \n",
              "\n",
              "      work_type Residence_type  avg_glucose_level   bmi  stroke  \n",
              "0      children          Rural              95.12  18.0       0  \n",
              "1       Private          Urban              87.96  39.2       0  \n",
              "2       Private          Urban             110.89  17.6       0  \n",
              "3       Private          Rural              69.04  35.9       0  \n",
              "4  Never_worked          Rural             161.28  19.1       0  "
            ]
          },
          "execution_count": 19,
          "metadata": {},
          "output_type": "execute_result"
        }
      ],
      "source": [
        "df.head()\n"
      ]
    },
    {
      "cell_type": "markdown",
      "id": "86ecfea1",
      "metadata": {
        "papermill": {
          "duration": 0.01484,
          "end_time": "2022-08-19T00:47:40.487269",
          "exception": false,
          "start_time": "2022-08-19T00:47:40.472429",
          "status": "completed"
        },
        "tags": [],
        "id": "86ecfea1"
      },
      "source": [
        "***Here we will divide data set in such a way that ratio of True/False in train should be equals to True/False ratio in test set as our data is imbalanced and we need to test and train in every kind of example, for this purpose we will use stratified K-Fold*.**"
      ]
    },
    {
      "cell_type": "code",
      "execution_count": null,
      "id": "3d85d003",
      "metadata": {
        "execution": {
          "iopub.execute_input": "2022-08-19T00:47:40.519017Z",
          "iopub.status.busy": "2022-08-19T00:47:40.518582Z",
          "iopub.status.idle": "2022-08-19T00:47:40.560278Z",
          "shell.execute_reply": "2022-08-19T00:47:40.558752Z"
        },
        "papermill": {
          "duration": 0.060428,
          "end_time": "2022-08-19T00:47:40.563171",
          "exception": false,
          "start_time": "2022-08-19T00:47:40.502743",
          "status": "completed"
        },
        "tags": [],
        "id": "3d85d003",
        "outputId": "3f2d1258-3473-4fc0-c82a-e3d1cef4d2e6"
      },
      "outputs": [
        {
          "name": "stdout",
          "output_type": "stream",
          "text": [
            "      id  gender   age  hypertension  heart_disease  ever_married  work_type  \\\n",
            "0  30669       1   3.0             0              0             0          4   \n",
            "1  30468       1  58.0             1              0             1          2   \n",
            "2  16523       0   8.0             0              0             0          2   \n",
            "3  56543       0  70.0             0              0             1          2   \n",
            "4  46136       1  14.0             0              0             0          1   \n",
            "\n",
            "   Residence_type  avg_glucose_level   bmi  stroke  \n",
            "0               0              95.12  18.0       0  \n",
            "1               1              87.96  39.2       0  \n",
            "2               1             110.89  17.6       0  \n",
            "3               0              69.04  35.9       0  \n",
            "4               0             161.28  19.1       0  \n"
          ]
        }
      ],
      "source": [
        "from sklearn.model_selection import train_test_split ,KFold, StratifiedKFold\n",
        "\n",
        "ss=StratifiedKFold()\n",
        "\n",
        "for train_index, test_index in ss.split(X,y):\n",
        "    x_train=X.iloc[train_index]\n",
        "    y_train=y.iloc[train_index]\n",
        "    x_test=X.iloc[test_index]\n",
        "    y_test=y.iloc[test_index]\n",
        "\n",
        "\n",
        "print(x_train.head())\n",
        "\n",
        "    ## why \"X.loc[]\" not working\n",
        "\n",
        "# x_train,y_train,x_test,y_test=train_test_split(X,y,)"
      ]
    },
    {
      "cell_type": "markdown",
      "id": "7bfefdb7",
      "metadata": {
        "papermill": {
          "duration": 0.014147,
          "end_time": "2022-08-19T00:47:40.621129",
          "exception": false,
          "start_time": "2022-08-19T00:47:40.606982",
          "status": "completed"
        },
        "tags": [],
        "id": "7bfefdb7"
      },
      "source": [
        " ## Over sampling the x_train,y_train using Somet"
      ]
    },
    {
      "cell_type": "code",
      "execution_count": null,
      "id": "58432815",
      "metadata": {
        "execution": {
          "iopub.execute_input": "2022-08-19T00:47:40.652268Z",
          "iopub.status.busy": "2022-08-19T00:47:40.651830Z",
          "iopub.status.idle": "2022-08-19T00:47:41.584140Z",
          "shell.execute_reply": "2022-08-19T00:47:41.582579Z"
        },
        "papermill": {
          "duration": 0.951235,
          "end_time": "2022-08-19T00:47:41.587175",
          "exception": false,
          "start_time": "2022-08-19T00:47:40.635940",
          "status": "completed"
        },
        "tags": [],
        "id": "58432815",
        "outputId": "f9c06398-2bd9-4249-cc1a-1156ebbdd034"
      },
      "outputs": [
        {
          "name": "stdout",
          "output_type": "stream",
          "text": [
            "(33163, 11)\n",
            "(63702, 11)\n"
          ]
        }
      ],
      "source": [
        "from imblearn.combine import SMOTETomek\n",
        "\n",
        "sm=SMOTETomek(random_state=42)\n",
        "x_res,y_res=sm.fit_resample(x_train,y_train)\n",
        "\n",
        "print(x_train.shape)\n",
        "print(x_res.shape)"
      ]
    },
    {
      "cell_type": "markdown",
      "id": "5852cc71",
      "metadata": {
        "papermill": {
          "duration": 0.023865,
          "end_time": "2022-08-19T00:47:41.626033",
          "exception": false,
          "start_time": "2022-08-19T00:47:41.602168",
          "status": "completed"
        },
        "tags": [],
        "id": "5852cc71"
      },
      "source": [
        "Now we will try to find the best model from various classification models, then we will find the best\n",
        "parameters of those models using cross_val_score and gridSearchCV."
      ]
    },
    {
      "cell_type": "code",
      "execution_count": null,
      "id": "8a1e14a2",
      "metadata": {
        "execution": {
          "iopub.execute_input": "2022-08-19T00:47:41.658304Z",
          "iopub.status.busy": "2022-08-19T00:47:41.657583Z",
          "iopub.status.idle": "2022-08-19T00:47:41.663252Z",
          "shell.execute_reply": "2022-08-19T00:47:41.662222Z"
        },
        "papermill": {
          "duration": 0.024255,
          "end_time": "2022-08-19T00:47:41.665409",
          "exception": false,
          "start_time": "2022-08-19T00:47:41.641154",
          "status": "completed"
        },
        "tags": [],
        "id": "8a1e14a2"
      },
      "outputs": [],
      "source": [
        "from sklearn.linear_model import LogisticRegression\n",
        "from sklearn.neighbors import KNeighborsClassifier\n",
        "from sklearn.svm import SVC\n",
        "from sklearn.tree import DecisionTreeClassifier\n",
        "\n",
        "classifiers={'Logistic regression':LogisticRegression(),\n",
        "             'KNearest':KNeighborsClassifier(),\n",
        "            }"
      ]
    },
    {
      "cell_type": "code",
      "execution_count": null,
      "id": "3954a156",
      "metadata": {
        "execution": {
          "iopub.execute_input": "2022-08-19T00:47:41.698000Z",
          "iopub.status.busy": "2022-08-19T00:47:41.697200Z",
          "iopub.status.idle": "2022-08-19T00:47:48.081522Z",
          "shell.execute_reply": "2022-08-19T00:47:48.080338Z"
        },
        "papermill": {
          "duration": 6.403755,
          "end_time": "2022-08-19T00:47:48.084501",
          "exception": false,
          "start_time": "2022-08-19T00:47:41.680746",
          "status": "completed"
        },
        "tags": [],
        "id": "3954a156",
        "outputId": "c1c3bf24-711a-4fda-d033-b9cf06b4aa2d"
      },
      "outputs": [
        {
          "name": "stderr",
          "output_type": "stream",
          "text": [
            "/opt/conda/lib/python3.7/site-packages/sklearn/linear_model/_logistic.py:818: ConvergenceWarning: lbfgs failed to converge (status=1):\n",
            "STOP: TOTAL NO. of ITERATIONS REACHED LIMIT.\n",
            "\n",
            "Increase the number of iterations (max_iter) or scale the data as shown in:\n",
            "    https://scikit-learn.org/stable/modules/preprocessing.html\n",
            "Please also refer to the documentation for alternative solver options:\n",
            "    https://scikit-learn.org/stable/modules/linear_model.html#logistic-regression\n",
            "  extra_warning_msg=_LOGISTIC_SOLVER_CONVERGENCE_MSG,\n",
            "/opt/conda/lib/python3.7/site-packages/sklearn/linear_model/_logistic.py:818: ConvergenceWarning: lbfgs failed to converge (status=1):\n",
            "STOP: TOTAL NO. of ITERATIONS REACHED LIMIT.\n",
            "\n",
            "Increase the number of iterations (max_iter) or scale the data as shown in:\n",
            "    https://scikit-learn.org/stable/modules/preprocessing.html\n",
            "Please also refer to the documentation for alternative solver options:\n",
            "    https://scikit-learn.org/stable/modules/linear_model.html#logistic-regression\n",
            "  extra_warning_msg=_LOGISTIC_SOLVER_CONVERGENCE_MSG,\n",
            "/opt/conda/lib/python3.7/site-packages/sklearn/linear_model/_logistic.py:818: ConvergenceWarning: lbfgs failed to converge (status=1):\n",
            "STOP: TOTAL NO. of ITERATIONS REACHED LIMIT.\n",
            "\n",
            "Increase the number of iterations (max_iter) or scale the data as shown in:\n",
            "    https://scikit-learn.org/stable/modules/preprocessing.html\n",
            "Please also refer to the documentation for alternative solver options:\n",
            "    https://scikit-learn.org/stable/modules/linear_model.html#logistic-regression\n",
            "  extra_warning_msg=_LOGISTIC_SOLVER_CONVERGENCE_MSG,\n",
            "/opt/conda/lib/python3.7/site-packages/sklearn/linear_model/_logistic.py:818: ConvergenceWarning: lbfgs failed to converge (status=1):\n",
            "STOP: TOTAL NO. of ITERATIONS REACHED LIMIT.\n",
            "\n",
            "Increase the number of iterations (max_iter) or scale the data as shown in:\n",
            "    https://scikit-learn.org/stable/modules/preprocessing.html\n",
            "Please also refer to the documentation for alternative solver options:\n",
            "    https://scikit-learn.org/stable/modules/linear_model.html#logistic-regression\n",
            "  extra_warning_msg=_LOGISTIC_SOLVER_CONVERGENCE_MSG,\n"
          ]
        },
        {
          "name": "stdout",
          "output_type": "stream",
          "text": [
            "Classifiers:  LogisticRegression()  Has a training score of 94.0 % accuracy score\n",
            "Classifiers:  KNeighborsClassifier()  Has a training score of 89.0 % accuracy score\n"
          ]
        }
      ],
      "source": [
        "from sklearn.model_selection import cross_val_score\n",
        "\n",
        "for key , clf in classifiers.items():\n",
        "    training_score=cross_val_score(clf,x_res,y_res,cv=5)\n",
        "    print(\"Classifiers: \", clf, \" Has a training score of\",\n",
        "          round(training_score.mean(), 2) * 100, \"% accuracy score\")"
      ]
    },
    {
      "cell_type": "code",
      "execution_count": null,
      "id": "79909c24",
      "metadata": {
        "execution": {
          "iopub.execute_input": "2022-08-19T00:47:48.116620Z",
          "iopub.status.busy": "2022-08-19T00:47:48.116228Z",
          "iopub.status.idle": "2022-08-19T00:51:06.078863Z",
          "shell.execute_reply": "2022-08-19T00:51:06.077230Z"
        },
        "papermill": {
          "duration": 197.982403,
          "end_time": "2022-08-19T00:51:06.082135",
          "exception": false,
          "start_time": "2022-08-19T00:47:48.099732",
          "status": "completed"
        },
        "tags": [],
        "id": "79909c24",
        "outputId": "f6cc87bc-a0f0-4a2a-8f13-392346787ccd"
      },
      "outputs": [
        {
          "name": "stderr",
          "output_type": "stream",
          "text": [
            "/opt/conda/lib/python3.7/site-packages/sklearn/linear_model/_logistic.py:818: ConvergenceWarning: lbfgs failed to converge (status=1):\n",
            "STOP: TOTAL NO. of ITERATIONS REACHED LIMIT.\n",
            "\n",
            "Increase the number of iterations (max_iter) or scale the data as shown in:\n",
            "    https://scikit-learn.org/stable/modules/preprocessing.html\n",
            "Please also refer to the documentation for alternative solver options:\n",
            "    https://scikit-learn.org/stable/modules/linear_model.html#logistic-regression\n",
            "  extra_warning_msg=_LOGISTIC_SOLVER_CONVERGENCE_MSG,\n",
            "/opt/conda/lib/python3.7/site-packages/sklearn/linear_model/_logistic.py:818: ConvergenceWarning: lbfgs failed to converge (status=1):\n",
            "STOP: TOTAL NO. of ITERATIONS REACHED LIMIT.\n",
            "\n",
            "Increase the number of iterations (max_iter) or scale the data as shown in:\n",
            "    https://scikit-learn.org/stable/modules/preprocessing.html\n",
            "Please also refer to the documentation for alternative solver options:\n",
            "    https://scikit-learn.org/stable/modules/linear_model.html#logistic-regression\n",
            "  extra_warning_msg=_LOGISTIC_SOLVER_CONVERGENCE_MSG,\n",
            "/opt/conda/lib/python3.7/site-packages/sklearn/linear_model/_logistic.py:818: ConvergenceWarning: lbfgs failed to converge (status=1):\n",
            "STOP: TOTAL NO. of ITERATIONS REACHED LIMIT.\n",
            "\n",
            "Increase the number of iterations (max_iter) or scale the data as shown in:\n",
            "    https://scikit-learn.org/stable/modules/preprocessing.html\n",
            "Please also refer to the documentation for alternative solver options:\n",
            "    https://scikit-learn.org/stable/modules/linear_model.html#logistic-regression\n",
            "  extra_warning_msg=_LOGISTIC_SOLVER_CONVERGENCE_MSG,\n",
            "/opt/conda/lib/python3.7/site-packages/sklearn/linear_model/_logistic.py:818: ConvergenceWarning: lbfgs failed to converge (status=1):\n",
            "STOP: TOTAL NO. of ITERATIONS REACHED LIMIT.\n",
            "\n",
            "Increase the number of iterations (max_iter) or scale the data as shown in:\n",
            "    https://scikit-learn.org/stable/modules/preprocessing.html\n",
            "Please also refer to the documentation for alternative solver options:\n",
            "    https://scikit-learn.org/stable/modules/linear_model.html#logistic-regression\n",
            "  extra_warning_msg=_LOGISTIC_SOLVER_CONVERGENCE_MSG,\n",
            "/opt/conda/lib/python3.7/site-packages/sklearn/linear_model/_logistic.py:818: ConvergenceWarning: lbfgs failed to converge (status=1):\n",
            "STOP: TOTAL NO. of ITERATIONS REACHED LIMIT.\n",
            "\n",
            "Increase the number of iterations (max_iter) or scale the data as shown in:\n",
            "    https://scikit-learn.org/stable/modules/preprocessing.html\n",
            "Please also refer to the documentation for alternative solver options:\n",
            "    https://scikit-learn.org/stable/modules/linear_model.html#logistic-regression\n",
            "  extra_warning_msg=_LOGISTIC_SOLVER_CONVERGENCE_MSG,\n",
            "/opt/conda/lib/python3.7/site-packages/sklearn/linear_model/_logistic.py:818: ConvergenceWarning: lbfgs failed to converge (status=1):\n",
            "STOP: TOTAL NO. of ITERATIONS REACHED LIMIT.\n",
            "\n",
            "Increase the number of iterations (max_iter) or scale the data as shown in:\n",
            "    https://scikit-learn.org/stable/modules/preprocessing.html\n",
            "Please also refer to the documentation for alternative solver options:\n",
            "    https://scikit-learn.org/stable/modules/linear_model.html#logistic-regression\n",
            "  extra_warning_msg=_LOGISTIC_SOLVER_CONVERGENCE_MSG,\n",
            "/opt/conda/lib/python3.7/site-packages/sklearn/linear_model/_logistic.py:818: ConvergenceWarning: lbfgs failed to converge (status=1):\n",
            "STOP: TOTAL NO. of ITERATIONS REACHED LIMIT.\n",
            "\n",
            "Increase the number of iterations (max_iter) or scale the data as shown in:\n",
            "    https://scikit-learn.org/stable/modules/preprocessing.html\n",
            "Please also refer to the documentation for alternative solver options:\n",
            "    https://scikit-learn.org/stable/modules/linear_model.html#logistic-regression\n",
            "  extra_warning_msg=_LOGISTIC_SOLVER_CONVERGENCE_MSG,\n",
            "/opt/conda/lib/python3.7/site-packages/sklearn/linear_model/_logistic.py:818: ConvergenceWarning: lbfgs failed to converge (status=1):\n",
            "STOP: TOTAL NO. of ITERATIONS REACHED LIMIT.\n",
            "\n",
            "Increase the number of iterations (max_iter) or scale the data as shown in:\n",
            "    https://scikit-learn.org/stable/modules/preprocessing.html\n",
            "Please also refer to the documentation for alternative solver options:\n",
            "    https://scikit-learn.org/stable/modules/linear_model.html#logistic-regression\n",
            "  extra_warning_msg=_LOGISTIC_SOLVER_CONVERGENCE_MSG,\n",
            "/opt/conda/lib/python3.7/site-packages/sklearn/linear_model/_logistic.py:818: ConvergenceWarning: lbfgs failed to converge (status=1):\n",
            "STOP: TOTAL NO. of ITERATIONS REACHED LIMIT.\n",
            "\n",
            "Increase the number of iterations (max_iter) or scale the data as shown in:\n",
            "    https://scikit-learn.org/stable/modules/preprocessing.html\n",
            "Please also refer to the documentation for alternative solver options:\n",
            "    https://scikit-learn.org/stable/modules/linear_model.html#logistic-regression\n",
            "  extra_warning_msg=_LOGISTIC_SOLVER_CONVERGENCE_MSG,\n",
            "/opt/conda/lib/python3.7/site-packages/sklearn/linear_model/_logistic.py:818: ConvergenceWarning: lbfgs failed to converge (status=1):\n",
            "STOP: TOTAL NO. of ITERATIONS REACHED LIMIT.\n",
            "\n",
            "Increase the number of iterations (max_iter) or scale the data as shown in:\n",
            "    https://scikit-learn.org/stable/modules/preprocessing.html\n",
            "Please also refer to the documentation for alternative solver options:\n",
            "    https://scikit-learn.org/stable/modules/linear_model.html#logistic-regression\n",
            "  extra_warning_msg=_LOGISTIC_SOLVER_CONVERGENCE_MSG,\n",
            "/opt/conda/lib/python3.7/site-packages/sklearn/linear_model/_logistic.py:818: ConvergenceWarning: lbfgs failed to converge (status=1):\n",
            "STOP: TOTAL NO. of ITERATIONS REACHED LIMIT.\n",
            "\n",
            "Increase the number of iterations (max_iter) or scale the data as shown in:\n",
            "    https://scikit-learn.org/stable/modules/preprocessing.html\n",
            "Please also refer to the documentation for alternative solver options:\n",
            "    https://scikit-learn.org/stable/modules/linear_model.html#logistic-regression\n",
            "  extra_warning_msg=_LOGISTIC_SOLVER_CONVERGENCE_MSG,\n",
            "/opt/conda/lib/python3.7/site-packages/sklearn/linear_model/_logistic.py:818: ConvergenceWarning: lbfgs failed to converge (status=1):\n",
            "STOP: TOTAL NO. of ITERATIONS REACHED LIMIT.\n",
            "\n",
            "Increase the number of iterations (max_iter) or scale the data as shown in:\n",
            "    https://scikit-learn.org/stable/modules/preprocessing.html\n",
            "Please also refer to the documentation for alternative solver options:\n",
            "    https://scikit-learn.org/stable/modules/linear_model.html#logistic-regression\n",
            "  extra_warning_msg=_LOGISTIC_SOLVER_CONVERGENCE_MSG,\n",
            "/opt/conda/lib/python3.7/site-packages/sklearn/linear_model/_logistic.py:818: ConvergenceWarning: lbfgs failed to converge (status=1):\n",
            "STOP: TOTAL NO. of ITERATIONS REACHED LIMIT.\n",
            "\n",
            "Increase the number of iterations (max_iter) or scale the data as shown in:\n",
            "    https://scikit-learn.org/stable/modules/preprocessing.html\n",
            "Please also refer to the documentation for alternative solver options:\n",
            "    https://scikit-learn.org/stable/modules/linear_model.html#logistic-regression\n",
            "  extra_warning_msg=_LOGISTIC_SOLVER_CONVERGENCE_MSG,\n",
            "/opt/conda/lib/python3.7/site-packages/sklearn/linear_model/_logistic.py:818: ConvergenceWarning: lbfgs failed to converge (status=1):\n",
            "STOP: TOTAL NO. of ITERATIONS REACHED LIMIT.\n",
            "\n",
            "Increase the number of iterations (max_iter) or scale the data as shown in:\n",
            "    https://scikit-learn.org/stable/modules/preprocessing.html\n",
            "Please also refer to the documentation for alternative solver options:\n",
            "    https://scikit-learn.org/stable/modules/linear_model.html#logistic-regression\n",
            "  extra_warning_msg=_LOGISTIC_SOLVER_CONVERGENCE_MSG,\n",
            "/opt/conda/lib/python3.7/site-packages/sklearn/linear_model/_logistic.py:818: ConvergenceWarning: lbfgs failed to converge (status=1):\n",
            "STOP: TOTAL NO. of ITERATIONS REACHED LIMIT.\n",
            "\n",
            "Increase the number of iterations (max_iter) or scale the data as shown in:\n",
            "    https://scikit-learn.org/stable/modules/preprocessing.html\n",
            "Please also refer to the documentation for alternative solver options:\n",
            "    https://scikit-learn.org/stable/modules/linear_model.html#logistic-regression\n",
            "  extra_warning_msg=_LOGISTIC_SOLVER_CONVERGENCE_MSG,\n",
            "/opt/conda/lib/python3.7/site-packages/sklearn/linear_model/_logistic.py:818: ConvergenceWarning: lbfgs failed to converge (status=1):\n",
            "STOP: TOTAL NO. of ITERATIONS REACHED LIMIT.\n",
            "\n",
            "Increase the number of iterations (max_iter) or scale the data as shown in:\n",
            "    https://scikit-learn.org/stable/modules/preprocessing.html\n",
            "Please also refer to the documentation for alternative solver options:\n",
            "    https://scikit-learn.org/stable/modules/linear_model.html#logistic-regression\n",
            "  extra_warning_msg=_LOGISTIC_SOLVER_CONVERGENCE_MSG,\n",
            "/opt/conda/lib/python3.7/site-packages/sklearn/linear_model/_logistic.py:818: ConvergenceWarning: lbfgs failed to converge (status=1):\n",
            "STOP: TOTAL NO. of ITERATIONS REACHED LIMIT.\n",
            "\n",
            "Increase the number of iterations (max_iter) or scale the data as shown in:\n",
            "    https://scikit-learn.org/stable/modules/preprocessing.html\n",
            "Please also refer to the documentation for alternative solver options:\n",
            "    https://scikit-learn.org/stable/modules/linear_model.html#logistic-regression\n",
            "  extra_warning_msg=_LOGISTIC_SOLVER_CONVERGENCE_MSG,\n",
            "/opt/conda/lib/python3.7/site-packages/sklearn/linear_model/_logistic.py:818: ConvergenceWarning: lbfgs failed to converge (status=1):\n",
            "STOP: TOTAL NO. of ITERATIONS REACHED LIMIT.\n",
            "\n",
            "Increase the number of iterations (max_iter) or scale the data as shown in:\n",
            "    https://scikit-learn.org/stable/modules/preprocessing.html\n",
            "Please also refer to the documentation for alternative solver options:\n",
            "    https://scikit-learn.org/stable/modules/linear_model.html#logistic-regression\n",
            "  extra_warning_msg=_LOGISTIC_SOLVER_CONVERGENCE_MSG,\n",
            "/opt/conda/lib/python3.7/site-packages/sklearn/linear_model/_logistic.py:818: ConvergenceWarning: lbfgs failed to converge (status=1):\n",
            "STOP: TOTAL NO. of ITERATIONS REACHED LIMIT.\n",
            "\n",
            "Increase the number of iterations (max_iter) or scale the data as shown in:\n",
            "    https://scikit-learn.org/stable/modules/preprocessing.html\n",
            "Please also refer to the documentation for alternative solver options:\n",
            "    https://scikit-learn.org/stable/modules/linear_model.html#logistic-regression\n",
            "  extra_warning_msg=_LOGISTIC_SOLVER_CONVERGENCE_MSG,\n",
            "/opt/conda/lib/python3.7/site-packages/sklearn/linear_model/_logistic.py:818: ConvergenceWarning: lbfgs failed to converge (status=1):\n",
            "STOP: TOTAL NO. of ITERATIONS REACHED LIMIT.\n",
            "\n",
            "Increase the number of iterations (max_iter) or scale the data as shown in:\n",
            "    https://scikit-learn.org/stable/modules/preprocessing.html\n",
            "Please also refer to the documentation for alternative solver options:\n",
            "    https://scikit-learn.org/stable/modules/linear_model.html#logistic-regression\n",
            "  extra_warning_msg=_LOGISTIC_SOLVER_CONVERGENCE_MSG,\n",
            "/opt/conda/lib/python3.7/site-packages/sklearn/linear_model/_logistic.py:818: ConvergenceWarning: lbfgs failed to converge (status=1):\n",
            "STOP: TOTAL NO. of ITERATIONS REACHED LIMIT.\n",
            "\n",
            "Increase the number of iterations (max_iter) or scale the data as shown in:\n",
            "    https://scikit-learn.org/stable/modules/preprocessing.html\n",
            "Please also refer to the documentation for alternative solver options:\n",
            "    https://scikit-learn.org/stable/modules/linear_model.html#logistic-regression\n",
            "  extra_warning_msg=_LOGISTIC_SOLVER_CONVERGENCE_MSG,\n",
            "/opt/conda/lib/python3.7/site-packages/sklearn/linear_model/_logistic.py:818: ConvergenceWarning: lbfgs failed to converge (status=1):\n",
            "STOP: TOTAL NO. of ITERATIONS REACHED LIMIT.\n",
            "\n",
            "Increase the number of iterations (max_iter) or scale the data as shown in:\n",
            "    https://scikit-learn.org/stable/modules/preprocessing.html\n",
            "Please also refer to the documentation for alternative solver options:\n",
            "    https://scikit-learn.org/stable/modules/linear_model.html#logistic-regression\n",
            "  extra_warning_msg=_LOGISTIC_SOLVER_CONVERGENCE_MSG,\n",
            "/opt/conda/lib/python3.7/site-packages/sklearn/linear_model/_logistic.py:818: ConvergenceWarning: lbfgs failed to converge (status=1):\n",
            "STOP: TOTAL NO. of ITERATIONS REACHED LIMIT.\n",
            "\n",
            "Increase the number of iterations (max_iter) or scale the data as shown in:\n",
            "    https://scikit-learn.org/stable/modules/preprocessing.html\n",
            "Please also refer to the documentation for alternative solver options:\n",
            "    https://scikit-learn.org/stable/modules/linear_model.html#logistic-regression\n",
            "  extra_warning_msg=_LOGISTIC_SOLVER_CONVERGENCE_MSG,\n",
            "/opt/conda/lib/python3.7/site-packages/sklearn/linear_model/_logistic.py:818: ConvergenceWarning: lbfgs failed to converge (status=1):\n",
            "STOP: TOTAL NO. of ITERATIONS REACHED LIMIT.\n",
            "\n",
            "Increase the number of iterations (max_iter) or scale the data as shown in:\n",
            "    https://scikit-learn.org/stable/modules/preprocessing.html\n",
            "Please also refer to the documentation for alternative solver options:\n",
            "    https://scikit-learn.org/stable/modules/linear_model.html#logistic-regression\n",
            "  extra_warning_msg=_LOGISTIC_SOLVER_CONVERGENCE_MSG,\n",
            "/opt/conda/lib/python3.7/site-packages/sklearn/linear_model/_logistic.py:818: ConvergenceWarning: lbfgs failed to converge (status=1):\n",
            "STOP: TOTAL NO. of ITERATIONS REACHED LIMIT.\n",
            "\n",
            "Increase the number of iterations (max_iter) or scale the data as shown in:\n",
            "    https://scikit-learn.org/stable/modules/preprocessing.html\n",
            "Please also refer to the documentation for alternative solver options:\n",
            "    https://scikit-learn.org/stable/modules/linear_model.html#logistic-regression\n",
            "  extra_warning_msg=_LOGISTIC_SOLVER_CONVERGENCE_MSG,\n",
            "/opt/conda/lib/python3.7/site-packages/sklearn/linear_model/_logistic.py:818: ConvergenceWarning: lbfgs failed to converge (status=1):\n",
            "STOP: TOTAL NO. of ITERATIONS REACHED LIMIT.\n",
            "\n",
            "Increase the number of iterations (max_iter) or scale the data as shown in:\n",
            "    https://scikit-learn.org/stable/modules/preprocessing.html\n",
            "Please also refer to the documentation for alternative solver options:\n",
            "    https://scikit-learn.org/stable/modules/linear_model.html#logistic-regression\n",
            "  extra_warning_msg=_LOGISTIC_SOLVER_CONVERGENCE_MSG,\n",
            "/opt/conda/lib/python3.7/site-packages/sklearn/linear_model/_logistic.py:818: ConvergenceWarning: lbfgs failed to converge (status=1):\n",
            "STOP: TOTAL NO. of ITERATIONS REACHED LIMIT.\n",
            "\n",
            "Increase the number of iterations (max_iter) or scale the data as shown in:\n",
            "    https://scikit-learn.org/stable/modules/preprocessing.html\n",
            "Please also refer to the documentation for alternative solver options:\n",
            "    https://scikit-learn.org/stable/modules/linear_model.html#logistic-regression\n",
            "  extra_warning_msg=_LOGISTIC_SOLVER_CONVERGENCE_MSG,\n",
            "/opt/conda/lib/python3.7/site-packages/sklearn/linear_model/_logistic.py:818: ConvergenceWarning: lbfgs failed to converge (status=1):\n",
            "STOP: TOTAL NO. of ITERATIONS REACHED LIMIT.\n",
            "\n",
            "Increase the number of iterations (max_iter) or scale the data as shown in:\n",
            "    https://scikit-learn.org/stable/modules/preprocessing.html\n",
            "Please also refer to the documentation for alternative solver options:\n",
            "    https://scikit-learn.org/stable/modules/linear_model.html#logistic-regression\n",
            "  extra_warning_msg=_LOGISTIC_SOLVER_CONVERGENCE_MSG,\n",
            "/opt/conda/lib/python3.7/site-packages/sklearn/linear_model/_logistic.py:818: ConvergenceWarning: lbfgs failed to converge (status=1):\n",
            "STOP: TOTAL NO. of ITERATIONS REACHED LIMIT.\n",
            "\n",
            "Increase the number of iterations (max_iter) or scale the data as shown in:\n",
            "    https://scikit-learn.org/stable/modules/preprocessing.html\n",
            "Please also refer to the documentation for alternative solver options:\n",
            "    https://scikit-learn.org/stable/modules/linear_model.html#logistic-regression\n",
            "  extra_warning_msg=_LOGISTIC_SOLVER_CONVERGENCE_MSG,\n",
            "/opt/conda/lib/python3.7/site-packages/sklearn/linear_model/_logistic.py:818: ConvergenceWarning: lbfgs failed to converge (status=1):\n",
            "STOP: TOTAL NO. of ITERATIONS REACHED LIMIT.\n",
            "\n",
            "Increase the number of iterations (max_iter) or scale the data as shown in:\n",
            "    https://scikit-learn.org/stable/modules/preprocessing.html\n",
            "Please also refer to the documentation for alternative solver options:\n",
            "    https://scikit-learn.org/stable/modules/linear_model.html#logistic-regression\n",
            "  extra_warning_msg=_LOGISTIC_SOLVER_CONVERGENCE_MSG,\n",
            "/opt/conda/lib/python3.7/site-packages/sklearn/linear_model/_logistic.py:818: ConvergenceWarning: lbfgs failed to converge (status=1):\n",
            "STOP: TOTAL NO. of ITERATIONS REACHED LIMIT.\n",
            "\n",
            "Increase the number of iterations (max_iter) or scale the data as shown in:\n",
            "    https://scikit-learn.org/stable/modules/preprocessing.html\n",
            "Please also refer to the documentation for alternative solver options:\n",
            "    https://scikit-learn.org/stable/modules/linear_model.html#logistic-regression\n",
            "  extra_warning_msg=_LOGISTIC_SOLVER_CONVERGENCE_MSG,\n"
          ]
        }
      ],
      "source": [
        "from sklearn.model_selection import GridSearchCV\n",
        "\n",
        "log_reg_param ={ 'penalty':['l2'],'C':[0.001,0.01,0.1,1,10,100,1000]}\n",
        "grid_log_reg=GridSearchCV(LogisticRegression(),log_reg_param)\n",
        "\n",
        "grid_log_reg.fit(x_res,y_res)\n",
        "\n",
        "log_bp=grid_log_reg.best_estimator_\n",
        "\n",
        "k_near_param={'n_neighbors':list(range(2,5,1)),'algorithm':['auto','ball_tree','kd_tree','brute']}\n",
        "grid_k=GridSearchCV(KNeighborsClassifier(),k_near_param)\n",
        "\n",
        "grid_k.fit(x_res,y_res)\n",
        "\n",
        "k_bp=grid_k.best_estimator_\n"
      ]
    },
    {
      "cell_type": "markdown",
      "id": "09786d73",
      "metadata": {
        "papermill": {
          "duration": 0.016975,
          "end_time": "2022-08-19T00:51:06.116935",
          "exception": false,
          "start_time": "2022-08-19T00:51:06.099960",
          "status": "completed"
        },
        "tags": [],
        "id": "09786d73"
      },
      "source": [
        "**Should choose best estimator among these models using validation set**"
      ]
    },
    {
      "cell_type": "code",
      "execution_count": null,
      "id": "2b1dcad0",
      "metadata": {
        "execution": {
          "iopub.execute_input": "2022-08-19T00:51:06.153435Z",
          "iopub.status.busy": "2022-08-19T00:51:06.153042Z",
          "iopub.status.idle": "2022-08-19T00:51:12.020655Z",
          "shell.execute_reply": "2022-08-19T00:51:12.018883Z"
        },
        "papermill": {
          "duration": 5.889217,
          "end_time": "2022-08-19T00:51:12.023445",
          "exception": false,
          "start_time": "2022-08-19T00:51:06.134228",
          "status": "completed"
        },
        "tags": [],
        "id": "2b1dcad0",
        "outputId": "c625a1fa-82ad-4f8b-c722-2ad709de7306"
      },
      "outputs": [
        {
          "name": "stderr",
          "output_type": "stream",
          "text": [
            "/opt/conda/lib/python3.7/site-packages/sklearn/linear_model/_logistic.py:818: ConvergenceWarning: lbfgs failed to converge (status=1):\n",
            "STOP: TOTAL NO. of ITERATIONS REACHED LIMIT.\n",
            "\n",
            "Increase the number of iterations (max_iter) or scale the data as shown in:\n",
            "    https://scikit-learn.org/stable/modules/preprocessing.html\n",
            "Please also refer to the documentation for alternative solver options:\n",
            "    https://scikit-learn.org/stable/modules/linear_model.html#logistic-regression\n",
            "  extra_warning_msg=_LOGISTIC_SOLVER_CONVERGENCE_MSG,\n",
            "/opt/conda/lib/python3.7/site-packages/sklearn/linear_model/_logistic.py:818: ConvergenceWarning: lbfgs failed to converge (status=1):\n",
            "STOP: TOTAL NO. of ITERATIONS REACHED LIMIT.\n",
            "\n",
            "Increase the number of iterations (max_iter) or scale the data as shown in:\n",
            "    https://scikit-learn.org/stable/modules/preprocessing.html\n",
            "Please also refer to the documentation for alternative solver options:\n",
            "    https://scikit-learn.org/stable/modules/linear_model.html#logistic-regression\n",
            "  extra_warning_msg=_LOGISTIC_SOLVER_CONVERGENCE_MSG,\n",
            "/opt/conda/lib/python3.7/site-packages/sklearn/linear_model/_logistic.py:818: ConvergenceWarning: lbfgs failed to converge (status=1):\n",
            "STOP: TOTAL NO. of ITERATIONS REACHED LIMIT.\n",
            "\n",
            "Increase the number of iterations (max_iter) or scale the data as shown in:\n",
            "    https://scikit-learn.org/stable/modules/preprocessing.html\n",
            "Please also refer to the documentation for alternative solver options:\n",
            "    https://scikit-learn.org/stable/modules/linear_model.html#logistic-regression\n",
            "  extra_warning_msg=_LOGISTIC_SOLVER_CONVERGENCE_MSG,\n",
            "/opt/conda/lib/python3.7/site-packages/sklearn/linear_model/_logistic.py:818: ConvergenceWarning: lbfgs failed to converge (status=1):\n",
            "STOP: TOTAL NO. of ITERATIONS REACHED LIMIT.\n",
            "\n",
            "Increase the number of iterations (max_iter) or scale the data as shown in:\n",
            "    https://scikit-learn.org/stable/modules/preprocessing.html\n",
            "Please also refer to the documentation for alternative solver options:\n",
            "    https://scikit-learn.org/stable/modules/linear_model.html#logistic-regression\n",
            "  extra_warning_msg=_LOGISTIC_SOLVER_CONVERGENCE_MSG,\n",
            "/opt/conda/lib/python3.7/site-packages/sklearn/linear_model/_logistic.py:818: ConvergenceWarning: lbfgs failed to converge (status=1):\n",
            "STOP: TOTAL NO. of ITERATIONS REACHED LIMIT.\n",
            "\n",
            "Increase the number of iterations (max_iter) or scale the data as shown in:\n",
            "    https://scikit-learn.org/stable/modules/preprocessing.html\n",
            "Please also refer to the documentation for alternative solver options:\n",
            "    https://scikit-learn.org/stable/modules/linear_model.html#logistic-regression\n",
            "  extra_warning_msg=_LOGISTIC_SOLVER_CONVERGENCE_MSG,\n"
          ]
        },
        {
          "name": "stdout",
          "output_type": "stream",
          "text": [
            "Score for Logistic Regression param  95.74%\n",
            "Score for KNeighbors param  91.2%\n"
          ]
        }
      ],
      "source": [
        "log_reg_score=cross_val_score(log_bp,x_res,y_res,cv=5)\n",
        "print('Score for Logistic Regression param ',round(log_reg_score.mean() * 100, 2).astype(str) + '%')\n",
        "\n",
        "k_score=cross_val_score(k_bp,x_res,y_res,cv=5)\n",
        "\n",
        "print('Score for KNeighbors param ',round(k_score.mean() * 100, 2).astype(str) + '%')"
      ]
    },
    {
      "cell_type": "code",
      "execution_count": null,
      "id": "dabc6c43",
      "metadata": {
        "execution": {
          "iopub.execute_input": "2022-08-19T00:51:12.096790Z",
          "iopub.status.busy": "2022-08-19T00:51:12.096373Z",
          "iopub.status.idle": "2022-08-19T00:51:12.115794Z",
          "shell.execute_reply": "2022-08-19T00:51:12.114164Z"
        },
        "papermill": {
          "duration": 0.04193,
          "end_time": "2022-08-19T00:51:12.118536",
          "exception": false,
          "start_time": "2022-08-19T00:51:12.076606",
          "status": "completed"
        },
        "tags": [],
        "id": "dabc6c43",
        "outputId": "5cc69765-4c20-40c7-c854-2d51d676289e"
      },
      "outputs": [
        {
          "name": "stdout",
          "output_type": "stream",
          "text": [
            "(63702, 11)\n",
            "(63702,)\n"
          ]
        }
      ],
      "source": [
        "print(x_res.shape)\n",
        "print(y_res.shape)\n",
        "from sklearn.model_selection import ShuffleSplit\n",
        "from sklearn.model_selection import learning_curve\n",
        "\n",
        "def plot_learning_curve(estimator1,estimator2,X,Y,ylim=None,cv=None,n_jobs=1,\n",
        "                        train_sizes=np.linspace(0.1,1.0,5)):\n",
        "    f,(ax1,ax2)=plt.subplots(1,2,figsize=(20,14),sharey=True)\n",
        "    if ylim is not None:\n",
        "        plt.ylim(*ylim)\n",
        "\n",
        "    train_sizes,train_scores,test_scores=learning_curve(\n",
        "    estimator1,x_res,y_res,cv=cv,n_jobs=n_jobs,train_sizes=train_sizes)\n",
        "\n",
        "    print(train_sizes,'**********************')\n",
        "\n",
        "    train_scores_mean=np.mean(train_scores,axis=1)\n",
        "    train_scores_std=np.std(train_scores,axis=1)\n",
        "    test_scores_mean=np.mean(test_scores,axis=1)\n",
        "    test_scores_std=np.std(test_scores,axis=1)\n",
        "\n",
        "    print(train_scores_mean,'*********************')\n",
        "    print('train_scores ---> ',train_scores)\n",
        "\n",
        "    ax1.fill_between(train_sizes, test_scores_mean - test_scores_std,\n",
        "                     test_scores_mean + test_scores_std, alpha=0.1, color=\"#2492ff\")\n",
        "    ax1.plot(train_sizes, train_scores_mean, 'o-', color=\"#ff9124\")\n",
        "    ax1.plot(train_sizes, test_scores_mean, 'o-', color=\"#2492ff\" )\n",
        "    ax1.set_title(\"Logistic Regression Learning Curve\", fontsize=14)\n",
        "    ax1.set_xlabel('Training size (m)')\n",
        "    ax1.set_ylabel('Score')\n",
        "    ax1.grid(True)\n",
        "    ax1.legend(loc=\"best\")\n",
        "\n",
        "    train_sizes, train_scores, test_scores = learning_curve(\n",
        "        estimator2, x_res, y_res, cv=cv, n_jobs=n_jobs, train_sizes=train_sizes)\n",
        "    train_scores_mean = np.mean(train_scores, axis=1)\n",
        "    train_scores_std = np.std(train_scores, axis=1)\n",
        "    test_scores_mean = np.mean(test_scores, axis=1)\n",
        "    test_scores_std = np.std(test_scores, axis=1)\n",
        "    ax2.fill_between(train_sizes, train_scores_mean - train_scores_std,\n",
        "                     train_scores_mean + train_scores_std, alpha=0.1,\n",
        "                     color=\"#ff9124\")\n",
        "    ax2.fill_between(train_sizes, test_scores_mean - test_scores_std,\n",
        "                     test_scores_mean + test_scores_std, alpha=0.1, color=\"#2492ff\")\n",
        "    ax2.plot(train_sizes, train_scores_mean, 'o-', color=\"#ff9124\",\n",
        "             label=\"Training score\")\n",
        "    ax2.plot(train_sizes, test_scores_mean, 'o-', color=\"#2492ff\",\n",
        "             label=\"Cross-validation score\")\n",
        "    ax2.set_title(\"Knears Neighbors Learning Curve\", fontsize=14)\n",
        "    ax2.set_xlabel('Training size (m)')\n",
        "    ax2.set_ylabel('Score')\n",
        "    ax2.grid(True)\n",
        "    ax2.legend(loc=\"best\")\n",
        "\n",
        ""
      ]
    },
    {
      "cell_type": "code",
      "execution_count": null,
      "id": "21925045",
      "metadata": {
        "execution": {
          "iopub.execute_input": "2022-08-19T00:57:10.248655Z",
          "iopub.status.busy": "2022-08-19T00:57:10.248200Z",
          "iopub.status.idle": "2022-08-19T00:57:15.974646Z",
          "shell.execute_reply": "2022-08-19T00:57:15.973391Z"
        },
        "papermill": {
          "duration": 5.755436,
          "end_time": "2022-08-19T00:57:15.977546",
          "exception": false,
          "start_time": "2022-08-19T00:57:10.222110",
          "status": "completed"
        },
        "tags": [],
        "id": "21925045",
        "outputId": "b4f1e969-df2e-4cd0-a332-6a8ae9924696"
      },
      "outputs": [
        {
          "name": "stderr",
          "output_type": "stream",
          "text": [
            "/opt/conda/lib/python3.7/site-packages/sklearn/linear_model/_logistic.py:818: ConvergenceWarning: lbfgs failed to converge (status=1):\n",
            "STOP: TOTAL NO. of ITERATIONS REACHED LIMIT.\n",
            "\n",
            "Increase the number of iterations (max_iter) or scale the data as shown in:\n",
            "    https://scikit-learn.org/stable/modules/preprocessing.html\n",
            "Please also refer to the documentation for alternative solver options:\n",
            "    https://scikit-learn.org/stable/modules/linear_model.html#logistic-regression\n",
            "  extra_warning_msg=_LOGISTIC_SOLVER_CONVERGENCE_MSG,\n",
            "/opt/conda/lib/python3.7/site-packages/sklearn/linear_model/_logistic.py:818: ConvergenceWarning: lbfgs failed to converge (status=1):\n",
            "STOP: TOTAL NO. of ITERATIONS REACHED LIMIT.\n",
            "\n",
            "Increase the number of iterations (max_iter) or scale the data as shown in:\n",
            "    https://scikit-learn.org/stable/modules/preprocessing.html\n",
            "Please also refer to the documentation for alternative solver options:\n",
            "    https://scikit-learn.org/stable/modules/linear_model.html#logistic-regression\n",
            "  extra_warning_msg=_LOGISTIC_SOLVER_CONVERGENCE_MSG,\n",
            "/opt/conda/lib/python3.7/site-packages/sklearn/linear_model/_logistic.py:818: ConvergenceWarning: lbfgs failed to converge (status=1):\n",
            "STOP: TOTAL NO. of ITERATIONS REACHED LIMIT.\n",
            "\n",
            "Increase the number of iterations (max_iter) or scale the data as shown in:\n",
            "    https://scikit-learn.org/stable/modules/preprocessing.html\n",
            "Please also refer to the documentation for alternative solver options:\n",
            "    https://scikit-learn.org/stable/modules/linear_model.html#logistic-regression\n",
            "  extra_warning_msg=_LOGISTIC_SOLVER_CONVERGENCE_MSG,\n",
            "/opt/conda/lib/python3.7/site-packages/sklearn/linear_model/_logistic.py:818: ConvergenceWarning: lbfgs failed to converge (status=1):\n",
            "STOP: TOTAL NO. of ITERATIONS REACHED LIMIT.\n",
            "\n",
            "Increase the number of iterations (max_iter) or scale the data as shown in:\n",
            "    https://scikit-learn.org/stable/modules/preprocessing.html\n",
            "Please also refer to the documentation for alternative solver options:\n",
            "    https://scikit-learn.org/stable/modules/linear_model.html#logistic-regression\n",
            "  extra_warning_msg=_LOGISTIC_SOLVER_CONVERGENCE_MSG,\n",
            "/opt/conda/lib/python3.7/site-packages/sklearn/linear_model/_logistic.py:818: ConvergenceWarning: lbfgs failed to converge (status=1):\n",
            "STOP: TOTAL NO. of ITERATIONS REACHED LIMIT.\n",
            "\n",
            "Increase the number of iterations (max_iter) or scale the data as shown in:\n",
            "    https://scikit-learn.org/stable/modules/preprocessing.html\n",
            "Please also refer to the documentation for alternative solver options:\n",
            "    https://scikit-learn.org/stable/modules/linear_model.html#logistic-regression\n",
            "  extra_warning_msg=_LOGISTIC_SOLVER_CONVERGENCE_MSG,\n"
          ]
        }
      ],
      "source": [
        "from sklearn.metrics import roc_curve\n",
        "from sklearn.model_selection import cross_val_predict\n",
        "# Create a DataFrame with all the scores and the classifiers names.\n",
        "\n",
        "log_reg_pred = cross_val_predict(log_bp, x_res, y_res, cv=5,\n",
        "                             method=\"decision_function\")\n",
        "\n",
        "knears_pred = cross_val_predict(k_bp, x_res, y_res, cv=5)\n"
      ]
    },
    {
      "cell_type": "code",
      "execution_count": null,
      "id": "16179514",
      "metadata": {
        "execution": {
          "iopub.execute_input": "2022-08-19T00:57:16.029808Z",
          "iopub.status.busy": "2022-08-19T00:57:16.029102Z",
          "iopub.status.idle": "2022-08-19T00:57:16.068448Z",
          "shell.execute_reply": "2022-08-19T00:57:16.067066Z"
        },
        "papermill": {
          "duration": 0.068608,
          "end_time": "2022-08-19T00:57:16.071142",
          "exception": false,
          "start_time": "2022-08-19T00:57:16.002534",
          "status": "completed"
        },
        "tags": [],
        "id": "16179514",
        "outputId": "414e2a9e-e985-4325-db5d-a0ee8ba4e7f6"
      },
      "outputs": [
        {
          "name": "stdout",
          "output_type": "stream",
          "text": [
            "Logistic Regression:  0.991214202823839\n",
            "KNears Neighbors:  0.911965087438385\n"
          ]
        }
      ],
      "source": [
        "from sklearn.metrics import roc_auc_score\n",
        "\n",
        "print('Logistic Regression: ', roc_auc_score(y_res, log_reg_pred))\n",
        "print('KNears Neighbors: ', roc_auc_score(y_res, knears_pred))"
      ]
    },
    {
      "cell_type": "code",
      "execution_count": null,
      "id": "4c771f6f",
      "metadata": {
        "execution": {
          "iopub.execute_input": "2022-08-19T00:57:16.122956Z",
          "iopub.status.busy": "2022-08-19T00:57:16.122542Z",
          "iopub.status.idle": "2022-08-19T00:57:16.485113Z",
          "shell.execute_reply": "2022-08-19T00:57:16.483773Z"
        },
        "papermill": {
          "duration": 0.391376,
          "end_time": "2022-08-19T00:57:16.487619",
          "exception": false,
          "start_time": "2022-08-19T00:57:16.096243",
          "status": "completed"
        },
        "tags": [],
        "id": "4c771f6f",
        "outputId": "6c4ebed1-f97d-4fe4-fdd5-48cebebae384"
      },
      "outputs": [
        {
          "data": {
            "image/png": "[encoded data removed]",
            "text/plain": [
              "<Figure size 1152x576 with 1 Axes>"
            ]
          },
          "metadata": {
            "needs_background": "light"
          },
          "output_type": "display_data"
        }
      ],
      "source": [
        "log_fpr, log_tpr, log_thresold = roc_curve(y_res, log_reg_pred)\n",
        "knear_fpr, knear_tpr, knear_threshold = roc_curve(y_res, knears_pred)\n",
        "\n",
        "def graph_roc_curve_multiple(log_fpr, log_tpr, knear_fpr, knear_tpr):\n",
        "    plt.figure(figsize=(16,8))\n",
        "    plt.title('ROC Curve \\n Top 4 Classifiers', fontsize=18)\n",
        "    plt.plot(log_fpr, log_tpr, label='Logistic Regression Classifier Score: {:.4f}'.format(roc_auc_score(y_res, log_reg_pred)))\n",
        "    plt.plot(knear_fpr, knear_tpr, label='KNears Neighbors Classifier Score: {:.4f}'.format(roc_auc_score(y_res, knears_pred)))\n",
        "\n",
        "    plt.plot([0, 1], [0, 1], 'k--')\n",
        "    plt.axis([-0.01, 1, 0, 1])\n",
        "    plt.xlabel('False Positive Rate', fontsize=16)\n",
        "    plt.ylabel('True Positive Rate', fontsize=16)\n",
        "    plt.annotate('Minimum ROC Score of 50% \\n (This is the minimum score to get)', xy=(0.5, 0.5), xytext=(0.6, 0.3),\n",
        "                arrowprops=dict(facecolor='#6E726D', shrink=0.05),\n",
        "                )\n",
        "    plt.legend()\n",
        "\n",
        "graph_roc_curve_multiple(log_fpr, log_tpr, knear_fpr, knear_tpr)\n",
        "plt.show()"
      ]
    },
    {
      "cell_type": "markdown",
      "id": "bc82aaa3",
      "metadata": {
        "papermill": {
          "duration": 0.026553,
          "end_time": "2022-08-19T00:57:16.540043",
          "exception": false,
          "start_time": "2022-08-19T00:57:16.513490",
          "status": "completed"
        },
        "tags": [],
        "id": "bc82aaa3"
      },
      "source": [
        "NOTE ***\n",
        "\n",
        "As learning_curves tell us about whether our model underfit or overfit on our data , this technique is not useful in imbalanced data as having an imbalanced data will make our model to always overfit on majority class and it will just guess around on x_test .\n",
        "Hence learning_curves are **NOT** ***beneficial on imbalanced data***\n",
        "*"
      ]
    },
    {
      "cell_type": "code",
      "execution_count": null,
      "id": "7b949bcb",
      "metadata": {
        "execution": {
          "iopub.execute_input": "2022-08-19T00:57:16.593980Z",
          "iopub.status.busy": "2022-08-19T00:57:16.593530Z",
          "iopub.status.idle": "2022-08-19T00:57:17.366458Z",
          "shell.execute_reply": "2022-08-19T00:57:17.365305Z"
        },
        "papermill": {
          "duration": 0.80334,
          "end_time": "2022-08-19T00:57:17.369433",
          "exception": false,
          "start_time": "2022-08-19T00:57:16.566093",
          "status": "completed"
        },
        "tags": [],
        "id": "7b949bcb",
        "outputId": "6c810154-7cd3-427f-8e1b-6b6fc76b12b0"
      },
      "outputs": [
        {
          "data": {
            "text/plain": [
              "[Text(0, 0.5, ''), Text(0, 1.5, '')]"
            ]
          },
          "execution_count": 31,
          "metadata": {},
          "output_type": "execute_result"
        },
        {
          "data": {
            "image/png": "[encoded data removed]",
            "text/plain": [
              "<Figure size 720x360 with 4 Axes>"
            ]
          },
          "metadata": {
            "needs_background": "light"
          },
          "output_type": "display_data"
        }
      ],
      "source": [
        "from sklearn.metrics import confusion_matrix\n",
        "\n",
        "y_pred_log_reg = log_bp.predict(x_test)\n",
        "y_pred_knear = k_bp.predict(x_test)\n",
        "\n",
        "log_reg_cf=confusion_matrix(y_test,y_pred_log_reg)\n",
        "kneighbours_cf=confusion_matrix(y_test,y_pred_knear)\n",
        "\n",
        "fig,ax= plt.subplots(1,2,figsize=(10,5))\n",
        "\n",
        "sns.heatmap(log_reg_cf, ax=ax[0], annot=True, cmap=plt.cm.copper)\n",
        "ax[0].set_title(\"Logistic Regression \\n Confusion Matrix\", fontsize=14)\n",
        "ax[0].set_xticklabels(['', ''], fontsize=14, rotation=90)\n",
        "ax[0].set_yticklabels(['', ''], fontsize=14, rotation=360)\n",
        "\n",
        "sns.heatmap(kneighbours_cf, ax=ax[1], annot=True, cmap=plt.cm.copper)\n",
        "ax[1].set_title(\"Knearest \\n Confusion Matrix\", fontsize=14)\n",
        "ax[1].set_xticklabels(['', ''], fontsize=14, rotation=90)\n",
        "ax[1].set_yticklabels(['', ''], fontsize=14, rotation=360)\n",
        "\n"
      ]
    },
    {
      "cell_type": "code",
      "execution_count": null,
      "id": "952547d4",
      "metadata": {
        "papermill": {
          "duration": 0.026258,
          "end_time": "2022-08-19T00:57:17.594275",
          "exception": false,
          "start_time": "2022-08-19T00:57:17.568017",
          "status": "completed"
        },
        "tags": [],
        "id": "952547d4"
      },
      "outputs": [],
      "source": []
    }
  ],
  "metadata": {
    "kernelspec": {
      "display_name": "Python 3",
      "language": "python",
      "name": "python3"
    },
    "language_info": {
      "codemirror_mode": {
        "name": "ipython",
        "version": 3
      },
      "file_extension": ".py",
      "mimetype": "text/x-python",
      "name": "python",
      "nbconvert_exporter": "python",
      "pygments_lexer": "ipython3",
      "version": "3.7.12"
    },
    "papermill": {
      "default_parameters": {},
      "duration": 594.278443,
      "end_time": "2022-08-19T00:57:20.244661",
      "environment_variables": {},
      "exception": null,
      "input_path": "__notebook__.ipynb",
      "output_path": "__notebook__.ipynb",
      "parameters": {},
      "start_time": "2022-08-19T00:47:25.966218",
      "version": "2.3.4"
    },
    "colab": {
      "provenance": []
    }
  },
  "nbformat": 4,
  "nbformat_minor": 5
}